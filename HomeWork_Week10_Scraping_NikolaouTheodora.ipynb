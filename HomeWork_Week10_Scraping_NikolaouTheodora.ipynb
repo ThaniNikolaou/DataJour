{
  "nbformat": 4,
  "nbformat_minor": 0,
  "metadata": {
    "colab": {
      "provenance": [],
      "authorship_tag": "ABX9TyMt3kbYV+SW+1Oha5IhMwYj",
      "include_colab_link": true
    },
    "kernelspec": {
      "name": "python3",
      "display_name": "Python 3"
    },
    "language_info": {
      "name": "python"
    }
  },
  "cells": [
    {
      "cell_type": "markdown",
      "metadata": {
        "id": "view-in-github",
        "colab_type": "text"
      },
      "source": [
        "<a href=\"https://colab.research.google.com/github/ThaniNikolaou/DataJour/blob/main/HomeWork_Week10_Scraping_NikolaouTheodora.ipynb\" target=\"_parent\"><img src=\"https://colab.research.google.com/assets/colab-badge.svg\" alt=\"Open In Colab\"/></a>"
      ]
    },
    {
      "cell_type": "code",
      "execution_count": 10,
      "metadata": {
        "colab": {
          "base_uri": "https://localhost:8080/"
        },
        "id": "qZWaDZhmt7UB",
        "outputId": "e78980de-84d0-46ce-eea2-74418d130d44"
      },
      "outputs": [
        {
          "output_type": "stream",
          "name": "stdout",
          "text": [
            "Drive already mounted at /content/gdrive; to attempt to forcibly remount, call drive.mount(\"/content/gdrive\", force_remount=True).\n"
          ]
        }
      ],
      "source": [
        "import requests\n",
        "from bs4 import BeautifulSoup\n",
        "import pandas as pd\n",
        "import time\n",
        "from google.colab import drive\n",
        "drive.mount('/content/gdrive')"
      ]
    },
    {
      "cell_type": "code",
      "source": [
        "main_url = \"https://www.newsbeast.gr/\"\n",
        "start_url = \"https://www.newsbeast.gr/politiki/ekloges-2023/page/\"\n",
        "start_page = 1\n",
        "end_page = 3"
      ],
      "metadata": {
        "id": "hRCc3mPRuV3f"
      },
      "execution_count": 64,
      "outputs": []
    },
    {
      "cell_type": "code",
      "source": [
        "response = requests.get(start_url)\n",
        "doc = BeautifulSoup(response.text, 'html.parser')"
      ],
      "metadata": {
        "id": "ahA3PIxAv2UE"
      },
      "execution_count": 65,
      "outputs": []
    },
    {
      "cell_type": "code",
      "source": [
        "teaser_articles_list = doc.find('main', {'jsx-4270303143 mainWrap'}).find_all('article')"
      ],
      "metadata": {
        "id": "f0-iH5ZDwA9G"
      },
      "execution_count": 70,
      "outputs": []
    },
    {
      "cell_type": "code",
      "source": [
        "teaser_articles_list[0]"
      ],
      "metadata": {
        "id": "7uDZEEk2w0MP"
      },
      "execution_count": null,
      "outputs": []
    },
    {
      "cell_type": "code",
      "source": [
        "print(teaser_articles_list[0].prettify())"
      ],
      "metadata": {
        "id": "VieWJTZBw10p"
      },
      "execution_count": null,
      "outputs": []
    },
    {
      "cell_type": "code",
      "source": [
        "teasers_list = []\n",
        "\n",
        "for page_num in range(start_page, end_page+1):\n",
        "    page_url = start_url + str(page_num)\n",
        "    response = requests.get(page_url)\n",
        "    doc = BeautifulSoup(response.text, 'html.parser')\n",
        "    teaser_articles_list = doc.find('main', {'jsx-4270303143 mainWrap'}).find_all('article')\n",
        "\n",
        "    for teaser in teaser_articles_list:\n",
        "            story_dict = {}\n",
        "            try:\n",
        "                link = teaser.find('a')['href']\n",
        "                if link.startswith(\"http\"):\n",
        "                    story_dict['url'] = link\n",
        "                else:\n",
        "                    story_dict['url'] = main_url + link\n",
        "            except:\n",
        "                story_dict['url'] = ''\n",
        "                pass\n",
        "            teasers_list.append(story_dict)\n",
        "\n",
        "    time.sleep(1)\n",
        "\n",
        "newsbeast_ekloges_df = pd.DataFrame(teasers_list)\n"
      ],
      "metadata": {
        "id": "b9LCQIXyuwp3"
      },
      "execution_count": 75,
      "outputs": []
    },
    {
      "cell_type": "code",
      "source": [
        "newsbeast_ekloges_df"
      ],
      "metadata": {
        "id": "spIaXgJ4zJUH"
      },
      "execution_count": null,
      "outputs": []
    },
    {
      "cell_type": "code",
      "source": [
        "article_url = \"https://www.newsbeast.gr/politiki/arthro/9803096/ekloges-2023-ti-vouleftiki-edra-tou-voreiou-tomea-krata-o-dimitris-koutsoubas\""
      ],
      "metadata": {
        "id": "B2WEOD01yf31"
      },
      "execution_count": 77,
      "outputs": []
    },
    {
      "cell_type": "code",
      "source": [
        "full_articles_list = []\n",
        "for article_url in newsbeast_ekloges_df['url']:\n",
        "  response = requests.get(article_url)\n",
        "  doc = BeautifulSoup(response.text, 'html.parser')\n",
        "\n",
        "  article = doc.find('section', {'class': 'article__main'})\n",
        "\n",
        "  full_article_dict = {}\n",
        "\n",
        "  full_article_dict['site'] = \"https://www.newsbeast.gr/\"\n",
        "\n",
        "\n",
        "  full_article_dict['url'] = article_url\n",
        "\n",
        "  #section\n",
        "  try:\n",
        "    section = doc.find('div', {'class': 'jsx-1366697334 categories info'}).text\n",
        "    full_article_dict['section'] = section\n",
        "  except:\n",
        "    full_article_dict['section'] = ''\n",
        "    pass\n",
        "\n",
        "  #title\n",
        "  try:\n",
        "    title = doc.find('h1').text\n",
        "    full_article_dict['title'] = title\n",
        "  except:\n",
        "    full_article_dict['title'] = ''\n",
        "    pass\n",
        "\n",
        "  # date\n",
        "  try:\n",
        "    date = doc.find('time')['datetime']\n",
        "    full_article_dict['date'] = date\n",
        "  except:\n",
        "    full_article_dict['date'] = ''\n",
        "    pass\n",
        "\n",
        "\n",
        "  # full_text\n",
        "  try:\n",
        "    p_texts_list = []\n",
        "    paragraphs = doc.find_all('p')\n",
        "    for p in paragraphs:\n",
        "      p_texts_list.append(p.text)\n",
        "    full_text = ' '.join(p_texts_list)\n",
        "    full_text = \"\".join(full_text.splitlines())\n",
        "    full_article_dict['full_text'] = full_text\n",
        "  except:\n",
        "    full_article_dict['full_text'] = ''\n",
        "    pass\n",
        "\n",
        "  full_articles_list.append(full_article_dict)\n",
        "  time.sleep(1)"
      ],
      "metadata": {
        "id": "ARG0b4eVx9EG"
      },
      "execution_count": 78,
      "outputs": []
    },
    {
      "cell_type": "code",
      "source": [
        "newsbeast_ekloges_df = pd.DataFrame(full_articles_list)\n",
        "newsbeast_ekloges_df"
      ],
      "metadata": {
        "id": "QZOHQaLY4xaw"
      },
      "execution_count": null,
      "outputs": []
    },
    {
      "cell_type": "code",
      "source": [
        "newsbeast_ekloges_df.drop_duplicates(inplace=True)"
      ],
      "metadata": {
        "id": "nlH-susH7oos"
      },
      "execution_count": 83,
      "outputs": []
    },
    {
      "cell_type": "code",
      "source": [
        "newsbeast_ekloges_df"
      ],
      "metadata": {
        "colab": {
          "base_uri": "https://localhost:8080/",
          "height": 1000
        },
        "id": "kRIOABAb7sB3",
        "outputId": "bbdba182-2563-4970-ff9b-891b70f3615d"
      },
      "execution_count": 87,
      "outputs": [
        {
          "output_type": "execute_result",
          "data": {
            "text/plain": [
              "                          site  \\\n",
              "0    https://www.newsbeast.gr/   \n",
              "2    https://www.newsbeast.gr/   \n",
              "4    https://www.newsbeast.gr/   \n",
              "6    https://www.newsbeast.gr/   \n",
              "8    https://www.newsbeast.gr/   \n",
              "..                         ...   \n",
              "290  https://www.newsbeast.gr/   \n",
              "292  https://www.newsbeast.gr/   \n",
              "294  https://www.newsbeast.gr/   \n",
              "296  https://www.newsbeast.gr/   \n",
              "298  https://www.newsbeast.gr/   \n",
              "\n",
              "                                                   url  \\\n",
              "0    https://www.newsbeast.gr//politiki/arthro/9805...   \n",
              "2    https://www.newsbeast.gr//politiki/arthro/9805...   \n",
              "4    https://www.newsbeast.gr//politiki/ekloges-202...   \n",
              "6    https://www.newsbeast.gr//politiki/arthro/9805...   \n",
              "8    https://www.newsbeast.gr//lifestyle/arthro/980...   \n",
              "..                                                 ...   \n",
              "290  https://www.newsbeast.gr//politiki/arthro/9799...   \n",
              "292  https://www.newsbeast.gr//politiki/arthro/9799...   \n",
              "294  https://www.newsbeast.gr//politiki/arthro/9799...   \n",
              "296  https://www.newsbeast.gr//politiki/arthro/9799...   \n",
              "298  https://www.newsbeast.gr//politiki/arthro/9798...   \n",
              "\n",
              "                    section  \\\n",
              "0                  ΠΟΛΙΤΙΚΗ   \n",
              "2                  ΠΟΛΙΤΙΚΗ   \n",
              "4    Εκλογές 2023: Ειδήσεις   \n",
              "6                  ΠΟΛΙΤΙΚΗ   \n",
              "8                 LIFESTYLE   \n",
              "..                      ...   \n",
              "290                ΠΟΛΙΤΙΚΗ   \n",
              "292                ΠΟΛΙΤΙΚΗ   \n",
              "294                ΠΟΛΙΤΙΚΗ   \n",
              "296                ΠΟΛΙΤΙΚΗ   \n",
              "298                ΠΟΛΙΤΙΚΗ   \n",
              "\n",
              "                                                 title                  date  \\\n",
              "0    Ξανά εκλογές το φθινόπωρο: Πότε θα γίνουν οι δ...  2023-06-27T11:49:00Z   \n",
              "2    Καιρίδης: Δεν θα αφήσουμε το μεταναστευτικό στ...  2023-06-27T11:44:00Z   \n",
              "4                 Εκλογές 2023: Εκλογές 2023: Ειδήσεις  2023-06-27T11:09:00Z   \n",
              "6    Η συγκινητική ανάρτηση της Μαρέβα Γκραμπόβσκι ...  2023-06-27T10:52:00Z   \n",
              "8    Δομινίκη Παπαδοπούλου για «Σπαρτιάτες»: «Ήθελα...  2023-06-27T09:52:27Z   \n",
              "..                                                 ...                   ...   \n",
              "290  Εκλογές 2023: «Η Κρήτη θα γίνει σύντομα πράσιν...  2023-06-25T18:20:00Z   \n",
              "292  Μητσοτάκης: Είμαι πρωθυπουργός όλων των Ελλήνω...  2023-06-25T18:17:49Z   \n",
              "294  Εκλογές 2023: Επική απάντηση Χατζηδάκη για Σπα...  2023-06-25T18:15:34Z   \n",
              "296  Για δεύτερη φορά μέσα σε έναν μήνα οι πολίτες ...  2023-06-25T18:12:41Z   \n",
              "298  Εκλογές 2023: Ο Χάρης Ρώμας καταγγέλλει – «Με ...  2023-06-25T18:08:00Z   \n",
              "\n",
              "                                             full_text  \n",
              "0    Μετά τις εθνικές εκλογές της 25ης Ιουνίου ο χρ...  \n",
              "2    Για τις προτεραιότητες της κυβέρνησης μίλησε τ...  \n",
              "4    Στους λόγους για τους οποίους αποχώρησε από το...  \n",
              "6    «Συγχαρητήρια Κυριάκο! Τα κατάφερες!» Με τα λό...  \n",
              "8    Το μοντέλο Δομινίκη Παπαδοπούλου είχε κατέβει ...  \n",
              "..                                                 ...  \n",
              "290  Ο πατέρας του Νίκου Ανδρουλάκη, Μαρίνος, με έν...  \n",
              "292  Το πρώτο του μήνυμα μετά τη σαρωτική νίκη της ...  \n",
              "294  Το κόμμα Σπαρτιάτες μπαίνει στη Βουλή, όπως όλ...  \n",
              "296  Προσερχόμενος σήμερα το πρωί στο Παλαιό Φάληρο...  \n",
              "298  Τον προπηλακισμό του κατήγγειλε ο Χάρης Ρώμας ...  \n",
              "\n",
              "[150 rows x 6 columns]"
            ],
            "text/html": [
              "\n",
              "  <div id=\"df-12605c3f-4991-4514-9957-8a1f9fb67c25\">\n",
              "    <div class=\"colab-df-container\">\n",
              "      <div>\n",
              "<style scoped>\n",
              "    .dataframe tbody tr th:only-of-type {\n",
              "        vertical-align: middle;\n",
              "    }\n",
              "\n",
              "    .dataframe tbody tr th {\n",
              "        vertical-align: top;\n",
              "    }\n",
              "\n",
              "    .dataframe thead th {\n",
              "        text-align: right;\n",
              "    }\n",
              "</style>\n",
              "<table border=\"1\" class=\"dataframe\">\n",
              "  <thead>\n",
              "    <tr style=\"text-align: right;\">\n",
              "      <th></th>\n",
              "      <th>site</th>\n",
              "      <th>url</th>\n",
              "      <th>section</th>\n",
              "      <th>title</th>\n",
              "      <th>date</th>\n",
              "      <th>full_text</th>\n",
              "    </tr>\n",
              "  </thead>\n",
              "  <tbody>\n",
              "    <tr>\n",
              "      <th>0</th>\n",
              "      <td>https://www.newsbeast.gr/</td>\n",
              "      <td>https://www.newsbeast.gr//politiki/arthro/9805...</td>\n",
              "      <td>ΠΟΛΙΤΙΚΗ</td>\n",
              "      <td>Ξανά εκλογές το φθινόπωρο: Πότε θα γίνουν οι δ...</td>\n",
              "      <td>2023-06-27T11:49:00Z</td>\n",
              "      <td>Μετά τις εθνικές εκλογές της 25ης Ιουνίου ο χρ...</td>\n",
              "    </tr>\n",
              "    <tr>\n",
              "      <th>2</th>\n",
              "      <td>https://www.newsbeast.gr/</td>\n",
              "      <td>https://www.newsbeast.gr//politiki/arthro/9805...</td>\n",
              "      <td>ΠΟΛΙΤΙΚΗ</td>\n",
              "      <td>Καιρίδης: Δεν θα αφήσουμε το μεταναστευτικό στ...</td>\n",
              "      <td>2023-06-27T11:44:00Z</td>\n",
              "      <td>Για τις προτεραιότητες της κυβέρνησης μίλησε τ...</td>\n",
              "    </tr>\n",
              "    <tr>\n",
              "      <th>4</th>\n",
              "      <td>https://www.newsbeast.gr/</td>\n",
              "      <td>https://www.newsbeast.gr//politiki/ekloges-202...</td>\n",
              "      <td>Εκλογές 2023: Ειδήσεις</td>\n",
              "      <td>Εκλογές 2023: Εκλογές 2023: Ειδήσεις</td>\n",
              "      <td>2023-06-27T11:09:00Z</td>\n",
              "      <td>Στους λόγους για τους οποίους αποχώρησε από το...</td>\n",
              "    </tr>\n",
              "    <tr>\n",
              "      <th>6</th>\n",
              "      <td>https://www.newsbeast.gr/</td>\n",
              "      <td>https://www.newsbeast.gr//politiki/arthro/9805...</td>\n",
              "      <td>ΠΟΛΙΤΙΚΗ</td>\n",
              "      <td>Η συγκινητική ανάρτηση της Μαρέβα Γκραμπόβσκι ...</td>\n",
              "      <td>2023-06-27T10:52:00Z</td>\n",
              "      <td>«Συγχαρητήρια Κυριάκο! Τα κατάφερες!» Με τα λό...</td>\n",
              "    </tr>\n",
              "    <tr>\n",
              "      <th>8</th>\n",
              "      <td>https://www.newsbeast.gr/</td>\n",
              "      <td>https://www.newsbeast.gr//lifestyle/arthro/980...</td>\n",
              "      <td>LIFESTYLE</td>\n",
              "      <td>Δομινίκη Παπαδοπούλου για «Σπαρτιάτες»: «Ήθελα...</td>\n",
              "      <td>2023-06-27T09:52:27Z</td>\n",
              "      <td>Το μοντέλο Δομινίκη Παπαδοπούλου είχε κατέβει ...</td>\n",
              "    </tr>\n",
              "    <tr>\n",
              "      <th>...</th>\n",
              "      <td>...</td>\n",
              "      <td>...</td>\n",
              "      <td>...</td>\n",
              "      <td>...</td>\n",
              "      <td>...</td>\n",
              "      <td>...</td>\n",
              "    </tr>\n",
              "    <tr>\n",
              "      <th>290</th>\n",
              "      <td>https://www.newsbeast.gr/</td>\n",
              "      <td>https://www.newsbeast.gr//politiki/arthro/9799...</td>\n",
              "      <td>ΠΟΛΙΤΙΚΗ</td>\n",
              "      <td>Εκλογές 2023: «Η Κρήτη θα γίνει σύντομα πράσιν...</td>\n",
              "      <td>2023-06-25T18:20:00Z</td>\n",
              "      <td>Ο πατέρας του Νίκου Ανδρουλάκη, Μαρίνος, με έν...</td>\n",
              "    </tr>\n",
              "    <tr>\n",
              "      <th>292</th>\n",
              "      <td>https://www.newsbeast.gr/</td>\n",
              "      <td>https://www.newsbeast.gr//politiki/arthro/9799...</td>\n",
              "      <td>ΠΟΛΙΤΙΚΗ</td>\n",
              "      <td>Μητσοτάκης: Είμαι πρωθυπουργός όλων των Ελλήνω...</td>\n",
              "      <td>2023-06-25T18:17:49Z</td>\n",
              "      <td>Το πρώτο του μήνυμα μετά τη σαρωτική νίκη της ...</td>\n",
              "    </tr>\n",
              "    <tr>\n",
              "      <th>294</th>\n",
              "      <td>https://www.newsbeast.gr/</td>\n",
              "      <td>https://www.newsbeast.gr//politiki/arthro/9799...</td>\n",
              "      <td>ΠΟΛΙΤΙΚΗ</td>\n",
              "      <td>Εκλογές 2023: Επική απάντηση Χατζηδάκη για Σπα...</td>\n",
              "      <td>2023-06-25T18:15:34Z</td>\n",
              "      <td>Το κόμμα Σπαρτιάτες μπαίνει στη Βουλή, όπως όλ...</td>\n",
              "    </tr>\n",
              "    <tr>\n",
              "      <th>296</th>\n",
              "      <td>https://www.newsbeast.gr/</td>\n",
              "      <td>https://www.newsbeast.gr//politiki/arthro/9799...</td>\n",
              "      <td>ΠΟΛΙΤΙΚΗ</td>\n",
              "      <td>Για δεύτερη φορά μέσα σε έναν μήνα οι πολίτες ...</td>\n",
              "      <td>2023-06-25T18:12:41Z</td>\n",
              "      <td>Προσερχόμενος σήμερα το πρωί στο Παλαιό Φάληρο...</td>\n",
              "    </tr>\n",
              "    <tr>\n",
              "      <th>298</th>\n",
              "      <td>https://www.newsbeast.gr/</td>\n",
              "      <td>https://www.newsbeast.gr//politiki/arthro/9798...</td>\n",
              "      <td>ΠΟΛΙΤΙΚΗ</td>\n",
              "      <td>Εκλογές 2023: Ο Χάρης Ρώμας καταγγέλλει – «Με ...</td>\n",
              "      <td>2023-06-25T18:08:00Z</td>\n",
              "      <td>Τον προπηλακισμό του κατήγγειλε ο Χάρης Ρώμας ...</td>\n",
              "    </tr>\n",
              "  </tbody>\n",
              "</table>\n",
              "<p>150 rows × 6 columns</p>\n",
              "</div>\n",
              "      <button class=\"colab-df-convert\" onclick=\"convertToInteractive('df-12605c3f-4991-4514-9957-8a1f9fb67c25')\"\n",
              "              title=\"Convert this dataframe to an interactive table.\"\n",
              "              style=\"display:none;\">\n",
              "        \n",
              "  <svg xmlns=\"http://www.w3.org/2000/svg\" height=\"24px\"viewBox=\"0 0 24 24\"\n",
              "       width=\"24px\">\n",
              "    <path d=\"M0 0h24v24H0V0z\" fill=\"none\"/>\n",
              "    <path d=\"M18.56 5.44l.94 2.06.94-2.06 2.06-.94-2.06-.94-.94-2.06-.94 2.06-2.06.94zm-11 1L8.5 8.5l.94-2.06 2.06-.94-2.06-.94L8.5 2.5l-.94 2.06-2.06.94zm10 10l.94 2.06.94-2.06 2.06-.94-2.06-.94-.94-2.06-.94 2.06-2.06.94z\"/><path d=\"M17.41 7.96l-1.37-1.37c-.4-.4-.92-.59-1.43-.59-.52 0-1.04.2-1.43.59L10.3 9.45l-7.72 7.72c-.78.78-.78 2.05 0 2.83L4 21.41c.39.39.9.59 1.41.59.51 0 1.02-.2 1.41-.59l7.78-7.78 2.81-2.81c.8-.78.8-2.07 0-2.86zM5.41 20L4 18.59l7.72-7.72 1.47 1.35L5.41 20z\"/>\n",
              "  </svg>\n",
              "      </button>\n",
              "      \n",
              "  <style>\n",
              "    .colab-df-container {\n",
              "      display:flex;\n",
              "      flex-wrap:wrap;\n",
              "      gap: 12px;\n",
              "    }\n",
              "\n",
              "    .colab-df-convert {\n",
              "      background-color: #E8F0FE;\n",
              "      border: none;\n",
              "      border-radius: 50%;\n",
              "      cursor: pointer;\n",
              "      display: none;\n",
              "      fill: #1967D2;\n",
              "      height: 32px;\n",
              "      padding: 0 0 0 0;\n",
              "      width: 32px;\n",
              "    }\n",
              "\n",
              "    .colab-df-convert:hover {\n",
              "      background-color: #E2EBFA;\n",
              "      box-shadow: 0px 1px 2px rgba(60, 64, 67, 0.3), 0px 1px 3px 1px rgba(60, 64, 67, 0.15);\n",
              "      fill: #174EA6;\n",
              "    }\n",
              "\n",
              "    [theme=dark] .colab-df-convert {\n",
              "      background-color: #3B4455;\n",
              "      fill: #D2E3FC;\n",
              "    }\n",
              "\n",
              "    [theme=dark] .colab-df-convert:hover {\n",
              "      background-color: #434B5C;\n",
              "      box-shadow: 0px 1px 3px 1px rgba(0, 0, 0, 0.15);\n",
              "      filter: drop-shadow(0px 1px 2px rgba(0, 0, 0, 0.3));\n",
              "      fill: #FFFFFF;\n",
              "    }\n",
              "  </style>\n",
              "\n",
              "      <script>\n",
              "        const buttonEl =\n",
              "          document.querySelector('#df-12605c3f-4991-4514-9957-8a1f9fb67c25 button.colab-df-convert');\n",
              "        buttonEl.style.display =\n",
              "          google.colab.kernel.accessAllowed ? 'block' : 'none';\n",
              "\n",
              "        async function convertToInteractive(key) {\n",
              "          const element = document.querySelector('#df-12605c3f-4991-4514-9957-8a1f9fb67c25');\n",
              "          const dataTable =\n",
              "            await google.colab.kernel.invokeFunction('convertToInteractive',\n",
              "                                                     [key], {});\n",
              "          if (!dataTable) return;\n",
              "\n",
              "          const docLinkHtml = 'Like what you see? Visit the ' +\n",
              "            '<a target=\"_blank\" href=https://colab.research.google.com/notebooks/data_table.ipynb>data table notebook</a>'\n",
              "            + ' to learn more about interactive tables.';\n",
              "          element.innerHTML = '';\n",
              "          dataTable['output_type'] = 'display_data';\n",
              "          await google.colab.output.renderOutput(dataTable, element);\n",
              "          const docLink = document.createElement('div');\n",
              "          docLink.innerHTML = docLinkHtml;\n",
              "          element.appendChild(docLink);\n",
              "        }\n",
              "      </script>\n",
              "    </div>\n",
              "  </div>\n",
              "  "
            ]
          },
          "metadata": {},
          "execution_count": 87
        }
      ]
    },
    {
      "cell_type": "code",
      "source": [
        "newsbeast_ekloges_df.to_csv('/content/gdrive/MyDrive/DATA_JOUR/newsbeast_ekloges.csv', index=False)"
      ],
      "metadata": {
        "id": "OkjyPDDK5Fos"
      },
      "execution_count": 92,
      "outputs": []
    }
  ]
}