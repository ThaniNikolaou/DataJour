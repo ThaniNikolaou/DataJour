{
  "nbformat": 4,
  "nbformat_minor": 0,
  "metadata": {
    "colab": {
      "provenance": [],
      "include_colab_link": true
    },
    "kernelspec": {
      "name": "python3",
      "display_name": "Python 3"
    },
    "language_info": {
      "name": "python"
    }
  },
  "cells": [
    {
      "cell_type": "markdown",
      "metadata": {
        "id": "view-in-github",
        "colab_type": "text"
      },
      "source": [
        "<a href=\"https://colab.research.google.com/github/ThaniNikolaou/DataJour/blob/main/Exercises_for_Week3_Intro_to_Pandas_NIKOLAOU_THEODORA.ipynb\" target=\"_parent\"><img src=\"https://colab.research.google.com/assets/colab-badge.svg\" alt=\"Open In Colab\"/></a>"
      ]
    },
    {
      "cell_type": "markdown",
      "source": [
        "# Εισαγωγή στα Pandas (Pandas library)"
      ],
      "metadata": {
        "id": "FMDoMzXBvE1-"
      }
    },
    {
      "cell_type": "code",
      "source": [
        "from google.colab import drive\n",
        "\n",
        "drive.mount('/content/gdrive/', force_remount=True)"
      ],
      "metadata": {
        "id": "bdOE_gZs148j",
        "colab": {
          "base_uri": "https://localhost:8080/"
        },
        "outputId": "5edd2f06-6c12-4f37-bd66-d4e1fa7659d6"
      },
      "execution_count": null,
      "outputs": [
        {
          "output_type": "stream",
          "name": "stdout",
          "text": [
            "Mounted at /content/gdrive/\n"
          ]
        }
      ]
    },
    {
      "cell_type": "code",
      "execution_count": null,
      "metadata": {
        "id": "PUNPcFdavAnk"
      },
      "outputs": [],
      "source": [
        "import pandas as pd"
      ]
    },
    {
      "cell_type": "code",
      "source": [
        "df = pd.read_csv(\"https://raw.githubusercontent.com/datajour-gr/DataJournalism/main/Bachelor%20Lessons%202023/Lesson%203/countries.csv\")\n",
        "df"
      ],
      "metadata": {
        "colab": {
          "base_uri": "https://localhost:8080/",
          "height": 419
        },
        "id": "FQNz_bXvaTSN",
        "outputId": "87ccc68b-c42c-4d1f-ccce-7f27e28741fc"
      },
      "execution_count": null,
      "outputs": [
        {
          "output_type": "execute_result",
          "data": {
            "text/plain": [
              "                 country   continent  gdp_per_capita  life_expectancy  \\\n",
              "0            Afghanistan        Asia             663           54.863   \n",
              "1                Albania      Europe            4195           74.200   \n",
              "2                Algeria      Africa            5098           68.963   \n",
              "3                 Angola      Africa            2446           45.234   \n",
              "4    Antigua and Barbuda  N. America           12738           73.544   \n",
              "..                   ...         ...             ...              ...   \n",
              "183              Vietnam        Asia            1577           73.777   \n",
              "184   West Bank and Gaza        Asia            7586           70.929   \n",
              "185          Yemen, Rep.        Asia            2217           60.404   \n",
              "186               Zambia      Africa            1035           41.802   \n",
              "187             Zimbabwe      Africa             745           43.976   \n",
              "\n",
              "     population  \n",
              "0      22856302  \n",
              "1       3071856  \n",
              "2      30533827  \n",
              "3      13926373  \n",
              "4         77656  \n",
              "..          ...  \n",
              "183    78758010  \n",
              "184     3198560  \n",
              "185    17723186  \n",
              "186    10201562  \n",
              "187    12509477  \n",
              "\n",
              "[188 rows x 5 columns]"
            ],
            "text/html": [
              "\n",
              "  <div id=\"df-ea2be8f0-ea8a-4f47-8ac9-158fb78fc547\">\n",
              "    <div class=\"colab-df-container\">\n",
              "      <div>\n",
              "<style scoped>\n",
              "    .dataframe tbody tr th:only-of-type {\n",
              "        vertical-align: middle;\n",
              "    }\n",
              "\n",
              "    .dataframe tbody tr th {\n",
              "        vertical-align: top;\n",
              "    }\n",
              "\n",
              "    .dataframe thead th {\n",
              "        text-align: right;\n",
              "    }\n",
              "</style>\n",
              "<table border=\"1\" class=\"dataframe\">\n",
              "  <thead>\n",
              "    <tr style=\"text-align: right;\">\n",
              "      <th></th>\n",
              "      <th>country</th>\n",
              "      <th>continent</th>\n",
              "      <th>gdp_per_capita</th>\n",
              "      <th>life_expectancy</th>\n",
              "      <th>population</th>\n",
              "    </tr>\n",
              "  </thead>\n",
              "  <tbody>\n",
              "    <tr>\n",
              "      <th>0</th>\n",
              "      <td>Afghanistan</td>\n",
              "      <td>Asia</td>\n",
              "      <td>663</td>\n",
              "      <td>54.863</td>\n",
              "      <td>22856302</td>\n",
              "    </tr>\n",
              "    <tr>\n",
              "      <th>1</th>\n",
              "      <td>Albania</td>\n",
              "      <td>Europe</td>\n",
              "      <td>4195</td>\n",
              "      <td>74.200</td>\n",
              "      <td>3071856</td>\n",
              "    </tr>\n",
              "    <tr>\n",
              "      <th>2</th>\n",
              "      <td>Algeria</td>\n",
              "      <td>Africa</td>\n",
              "      <td>5098</td>\n",
              "      <td>68.963</td>\n",
              "      <td>30533827</td>\n",
              "    </tr>\n",
              "    <tr>\n",
              "      <th>3</th>\n",
              "      <td>Angola</td>\n",
              "      <td>Africa</td>\n",
              "      <td>2446</td>\n",
              "      <td>45.234</td>\n",
              "      <td>13926373</td>\n",
              "    </tr>\n",
              "    <tr>\n",
              "      <th>4</th>\n",
              "      <td>Antigua and Barbuda</td>\n",
              "      <td>N. America</td>\n",
              "      <td>12738</td>\n",
              "      <td>73.544</td>\n",
              "      <td>77656</td>\n",
              "    </tr>\n",
              "    <tr>\n",
              "      <th>...</th>\n",
              "      <td>...</td>\n",
              "      <td>...</td>\n",
              "      <td>...</td>\n",
              "      <td>...</td>\n",
              "      <td>...</td>\n",
              "    </tr>\n",
              "    <tr>\n",
              "      <th>183</th>\n",
              "      <td>Vietnam</td>\n",
              "      <td>Asia</td>\n",
              "      <td>1577</td>\n",
              "      <td>73.777</td>\n",
              "      <td>78758010</td>\n",
              "    </tr>\n",
              "    <tr>\n",
              "      <th>184</th>\n",
              "      <td>West Bank and Gaza</td>\n",
              "      <td>Asia</td>\n",
              "      <td>7586</td>\n",
              "      <td>70.929</td>\n",
              "      <td>3198560</td>\n",
              "    </tr>\n",
              "    <tr>\n",
              "      <th>185</th>\n",
              "      <td>Yemen, Rep.</td>\n",
              "      <td>Asia</td>\n",
              "      <td>2217</td>\n",
              "      <td>60.404</td>\n",
              "      <td>17723186</td>\n",
              "    </tr>\n",
              "    <tr>\n",
              "      <th>186</th>\n",
              "      <td>Zambia</td>\n",
              "      <td>Africa</td>\n",
              "      <td>1035</td>\n",
              "      <td>41.802</td>\n",
              "      <td>10201562</td>\n",
              "    </tr>\n",
              "    <tr>\n",
              "      <th>187</th>\n",
              "      <td>Zimbabwe</td>\n",
              "      <td>Africa</td>\n",
              "      <td>745</td>\n",
              "      <td>43.976</td>\n",
              "      <td>12509477</td>\n",
              "    </tr>\n",
              "  </tbody>\n",
              "</table>\n",
              "<p>188 rows × 5 columns</p>\n",
              "</div>\n",
              "      <button class=\"colab-df-convert\" onclick=\"convertToInteractive('df-ea2be8f0-ea8a-4f47-8ac9-158fb78fc547')\"\n",
              "              title=\"Convert this dataframe to an interactive table.\"\n",
              "              style=\"display:none;\">\n",
              "        \n",
              "  <svg xmlns=\"http://www.w3.org/2000/svg\" height=\"24px\"viewBox=\"0 0 24 24\"\n",
              "       width=\"24px\">\n",
              "    <path d=\"M0 0h24v24H0V0z\" fill=\"none\"/>\n",
              "    <path d=\"M18.56 5.44l.94 2.06.94-2.06 2.06-.94-2.06-.94-.94-2.06-.94 2.06-2.06.94zm-11 1L8.5 8.5l.94-2.06 2.06-.94-2.06-.94L8.5 2.5l-.94 2.06-2.06.94zm10 10l.94 2.06.94-2.06 2.06-.94-2.06-.94-.94-2.06-.94 2.06-2.06.94z\"/><path d=\"M17.41 7.96l-1.37-1.37c-.4-.4-.92-.59-1.43-.59-.52 0-1.04.2-1.43.59L10.3 9.45l-7.72 7.72c-.78.78-.78 2.05 0 2.83L4 21.41c.39.39.9.59 1.41.59.51 0 1.02-.2 1.41-.59l7.78-7.78 2.81-2.81c.8-.78.8-2.07 0-2.86zM5.41 20L4 18.59l7.72-7.72 1.47 1.35L5.41 20z\"/>\n",
              "  </svg>\n",
              "      </button>\n",
              "      \n",
              "  <style>\n",
              "    .colab-df-container {\n",
              "      display:flex;\n",
              "      flex-wrap:wrap;\n",
              "      gap: 12px;\n",
              "    }\n",
              "\n",
              "    .colab-df-convert {\n",
              "      background-color: #E8F0FE;\n",
              "      border: none;\n",
              "      border-radius: 50%;\n",
              "      cursor: pointer;\n",
              "      display: none;\n",
              "      fill: #1967D2;\n",
              "      height: 32px;\n",
              "      padding: 0 0 0 0;\n",
              "      width: 32px;\n",
              "    }\n",
              "\n",
              "    .colab-df-convert:hover {\n",
              "      background-color: #E2EBFA;\n",
              "      box-shadow: 0px 1px 2px rgba(60, 64, 67, 0.3), 0px 1px 3px 1px rgba(60, 64, 67, 0.15);\n",
              "      fill: #174EA6;\n",
              "    }\n",
              "\n",
              "    [theme=dark] .colab-df-convert {\n",
              "      background-color: #3B4455;\n",
              "      fill: #D2E3FC;\n",
              "    }\n",
              "\n",
              "    [theme=dark] .colab-df-convert:hover {\n",
              "      background-color: #434B5C;\n",
              "      box-shadow: 0px 1px 3px 1px rgba(0, 0, 0, 0.15);\n",
              "      filter: drop-shadow(0px 1px 2px rgba(0, 0, 0, 0.3));\n",
              "      fill: #FFFFFF;\n",
              "    }\n",
              "  </style>\n",
              "\n",
              "      <script>\n",
              "        const buttonEl =\n",
              "          document.querySelector('#df-ea2be8f0-ea8a-4f47-8ac9-158fb78fc547 button.colab-df-convert');\n",
              "        buttonEl.style.display =\n",
              "          google.colab.kernel.accessAllowed ? 'block' : 'none';\n",
              "\n",
              "        async function convertToInteractive(key) {\n",
              "          const element = document.querySelector('#df-ea2be8f0-ea8a-4f47-8ac9-158fb78fc547');\n",
              "          const dataTable =\n",
              "            await google.colab.kernel.invokeFunction('convertToInteractive',\n",
              "                                                     [key], {});\n",
              "          if (!dataTable) return;\n",
              "\n",
              "          const docLinkHtml = 'Like what you see? Visit the ' +\n",
              "            '<a target=\"_blank\" href=https://colab.research.google.com/notebooks/data_table.ipynb>data table notebook</a>'\n",
              "            + ' to learn more about interactive tables.';\n",
              "          element.innerHTML = '';\n",
              "          dataTable['output_type'] = 'display_data';\n",
              "          await google.colab.output.renderOutput(dataTable, element);\n",
              "          const docLink = document.createElement('div');\n",
              "          docLink.innerHTML = docLinkHtml;\n",
              "          element.appendChild(docLink);\n",
              "        }\n",
              "      </script>\n",
              "    </div>\n",
              "  </div>\n",
              "  "
            ]
          },
          "metadata": {},
          "execution_count": 10
        }
      ]
    },
    {
      "cell_type": "code",
      "source": [
        "df.to_csv(\"/content/gdrive/MyDrive/DATA_JOUR/countries.csv\", index=False)"
      ],
      "metadata": {
        "id": "rSbJeb4ca0DN"
      },
      "execution_count": null,
      "outputs": []
    },
    {
      "cell_type": "code",
      "source": [
        "df = pd.read_csv(\"/content/gdrive/MyDrive/DATA_JOUR/countries.csv\")\n",
        "df"
      ],
      "metadata": {
        "id": "GffwGytibELq",
        "colab": {
          "base_uri": "https://localhost:8080/",
          "height": 419
        },
        "outputId": "41386dd2-b51e-431f-a904-57a1b59b4b04"
      },
      "execution_count": null,
      "outputs": [
        {
          "output_type": "execute_result",
          "data": {
            "text/plain": [
              "                 country   continent  gdp_per_capita  life_expectancy  \\\n",
              "0            Afghanistan        Asia             663           54.863   \n",
              "1                Albania      Europe            4195           74.200   \n",
              "2                Algeria      Africa            5098           68.963   \n",
              "3                 Angola      Africa            2446           45.234   \n",
              "4    Antigua and Barbuda  N. America           12738           73.544   \n",
              "..                   ...         ...             ...              ...   \n",
              "183              Vietnam        Asia            1577           73.777   \n",
              "184   West Bank and Gaza        Asia            7586           70.929   \n",
              "185          Yemen, Rep.        Asia            2217           60.404   \n",
              "186               Zambia      Africa            1035           41.802   \n",
              "187             Zimbabwe      Africa             745           43.976   \n",
              "\n",
              "     population  \n",
              "0      22856302  \n",
              "1       3071856  \n",
              "2      30533827  \n",
              "3      13926373  \n",
              "4         77656  \n",
              "..          ...  \n",
              "183    78758010  \n",
              "184     3198560  \n",
              "185    17723186  \n",
              "186    10201562  \n",
              "187    12509477  \n",
              "\n",
              "[188 rows x 5 columns]"
            ],
            "text/html": [
              "\n",
              "  <div id=\"df-abe3e079-4303-4546-b283-adb93e426ff3\">\n",
              "    <div class=\"colab-df-container\">\n",
              "      <div>\n",
              "<style scoped>\n",
              "    .dataframe tbody tr th:only-of-type {\n",
              "        vertical-align: middle;\n",
              "    }\n",
              "\n",
              "    .dataframe tbody tr th {\n",
              "        vertical-align: top;\n",
              "    }\n",
              "\n",
              "    .dataframe thead th {\n",
              "        text-align: right;\n",
              "    }\n",
              "</style>\n",
              "<table border=\"1\" class=\"dataframe\">\n",
              "  <thead>\n",
              "    <tr style=\"text-align: right;\">\n",
              "      <th></th>\n",
              "      <th>country</th>\n",
              "      <th>continent</th>\n",
              "      <th>gdp_per_capita</th>\n",
              "      <th>life_expectancy</th>\n",
              "      <th>population</th>\n",
              "    </tr>\n",
              "  </thead>\n",
              "  <tbody>\n",
              "    <tr>\n",
              "      <th>0</th>\n",
              "      <td>Afghanistan</td>\n",
              "      <td>Asia</td>\n",
              "      <td>663</td>\n",
              "      <td>54.863</td>\n",
              "      <td>22856302</td>\n",
              "    </tr>\n",
              "    <tr>\n",
              "      <th>1</th>\n",
              "      <td>Albania</td>\n",
              "      <td>Europe</td>\n",
              "      <td>4195</td>\n",
              "      <td>74.200</td>\n",
              "      <td>3071856</td>\n",
              "    </tr>\n",
              "    <tr>\n",
              "      <th>2</th>\n",
              "      <td>Algeria</td>\n",
              "      <td>Africa</td>\n",
              "      <td>5098</td>\n",
              "      <td>68.963</td>\n",
              "      <td>30533827</td>\n",
              "    </tr>\n",
              "    <tr>\n",
              "      <th>3</th>\n",
              "      <td>Angola</td>\n",
              "      <td>Africa</td>\n",
              "      <td>2446</td>\n",
              "      <td>45.234</td>\n",
              "      <td>13926373</td>\n",
              "    </tr>\n",
              "    <tr>\n",
              "      <th>4</th>\n",
              "      <td>Antigua and Barbuda</td>\n",
              "      <td>N. America</td>\n",
              "      <td>12738</td>\n",
              "      <td>73.544</td>\n",
              "      <td>77656</td>\n",
              "    </tr>\n",
              "    <tr>\n",
              "      <th>...</th>\n",
              "      <td>...</td>\n",
              "      <td>...</td>\n",
              "      <td>...</td>\n",
              "      <td>...</td>\n",
              "      <td>...</td>\n",
              "    </tr>\n",
              "    <tr>\n",
              "      <th>183</th>\n",
              "      <td>Vietnam</td>\n",
              "      <td>Asia</td>\n",
              "      <td>1577</td>\n",
              "      <td>73.777</td>\n",
              "      <td>78758010</td>\n",
              "    </tr>\n",
              "    <tr>\n",
              "      <th>184</th>\n",
              "      <td>West Bank and Gaza</td>\n",
              "      <td>Asia</td>\n",
              "      <td>7586</td>\n",
              "      <td>70.929</td>\n",
              "      <td>3198560</td>\n",
              "    </tr>\n",
              "    <tr>\n",
              "      <th>185</th>\n",
              "      <td>Yemen, Rep.</td>\n",
              "      <td>Asia</td>\n",
              "      <td>2217</td>\n",
              "      <td>60.404</td>\n",
              "      <td>17723186</td>\n",
              "    </tr>\n",
              "    <tr>\n",
              "      <th>186</th>\n",
              "      <td>Zambia</td>\n",
              "      <td>Africa</td>\n",
              "      <td>1035</td>\n",
              "      <td>41.802</td>\n",
              "      <td>10201562</td>\n",
              "    </tr>\n",
              "    <tr>\n",
              "      <th>187</th>\n",
              "      <td>Zimbabwe</td>\n",
              "      <td>Africa</td>\n",
              "      <td>745</td>\n",
              "      <td>43.976</td>\n",
              "      <td>12509477</td>\n",
              "    </tr>\n",
              "  </tbody>\n",
              "</table>\n",
              "<p>188 rows × 5 columns</p>\n",
              "</div>\n",
              "      <button class=\"colab-df-convert\" onclick=\"convertToInteractive('df-abe3e079-4303-4546-b283-adb93e426ff3')\"\n",
              "              title=\"Convert this dataframe to an interactive table.\"\n",
              "              style=\"display:none;\">\n",
              "        \n",
              "  <svg xmlns=\"http://www.w3.org/2000/svg\" height=\"24px\"viewBox=\"0 0 24 24\"\n",
              "       width=\"24px\">\n",
              "    <path d=\"M0 0h24v24H0V0z\" fill=\"none\"/>\n",
              "    <path d=\"M18.56 5.44l.94 2.06.94-2.06 2.06-.94-2.06-.94-.94-2.06-.94 2.06-2.06.94zm-11 1L8.5 8.5l.94-2.06 2.06-.94-2.06-.94L8.5 2.5l-.94 2.06-2.06.94zm10 10l.94 2.06.94-2.06 2.06-.94-2.06-.94-.94-2.06-.94 2.06-2.06.94z\"/><path d=\"M17.41 7.96l-1.37-1.37c-.4-.4-.92-.59-1.43-.59-.52 0-1.04.2-1.43.59L10.3 9.45l-7.72 7.72c-.78.78-.78 2.05 0 2.83L4 21.41c.39.39.9.59 1.41.59.51 0 1.02-.2 1.41-.59l7.78-7.78 2.81-2.81c.8-.78.8-2.07 0-2.86zM5.41 20L4 18.59l7.72-7.72 1.47 1.35L5.41 20z\"/>\n",
              "  </svg>\n",
              "      </button>\n",
              "      \n",
              "  <style>\n",
              "    .colab-df-container {\n",
              "      display:flex;\n",
              "      flex-wrap:wrap;\n",
              "      gap: 12px;\n",
              "    }\n",
              "\n",
              "    .colab-df-convert {\n",
              "      background-color: #E8F0FE;\n",
              "      border: none;\n",
              "      border-radius: 50%;\n",
              "      cursor: pointer;\n",
              "      display: none;\n",
              "      fill: #1967D2;\n",
              "      height: 32px;\n",
              "      padding: 0 0 0 0;\n",
              "      width: 32px;\n",
              "    }\n",
              "\n",
              "    .colab-df-convert:hover {\n",
              "      background-color: #E2EBFA;\n",
              "      box-shadow: 0px 1px 2px rgba(60, 64, 67, 0.3), 0px 1px 3px 1px rgba(60, 64, 67, 0.15);\n",
              "      fill: #174EA6;\n",
              "    }\n",
              "\n",
              "    [theme=dark] .colab-df-convert {\n",
              "      background-color: #3B4455;\n",
              "      fill: #D2E3FC;\n",
              "    }\n",
              "\n",
              "    [theme=dark] .colab-df-convert:hover {\n",
              "      background-color: #434B5C;\n",
              "      box-shadow: 0px 1px 3px 1px rgba(0, 0, 0, 0.15);\n",
              "      filter: drop-shadow(0px 1px 2px rgba(0, 0, 0, 0.3));\n",
              "      fill: #FFFFFF;\n",
              "    }\n",
              "  </style>\n",
              "\n",
              "      <script>\n",
              "        const buttonEl =\n",
              "          document.querySelector('#df-abe3e079-4303-4546-b283-adb93e426ff3 button.colab-df-convert');\n",
              "        buttonEl.style.display =\n",
              "          google.colab.kernel.accessAllowed ? 'block' : 'none';\n",
              "\n",
              "        async function convertToInteractive(key) {\n",
              "          const element = document.querySelector('#df-abe3e079-4303-4546-b283-adb93e426ff3');\n",
              "          const dataTable =\n",
              "            await google.colab.kernel.invokeFunction('convertToInteractive',\n",
              "                                                     [key], {});\n",
              "          if (!dataTable) return;\n",
              "\n",
              "          const docLinkHtml = 'Like what you see? Visit the ' +\n",
              "            '<a target=\"_blank\" href=https://colab.research.google.com/notebooks/data_table.ipynb>data table notebook</a>'\n",
              "            + ' to learn more about interactive tables.';\n",
              "          element.innerHTML = '';\n",
              "          dataTable['output_type'] = 'display_data';\n",
              "          await google.colab.output.renderOutput(dataTable, element);\n",
              "          const docLink = document.createElement('div');\n",
              "          docLink.innerHTML = docLinkHtml;\n",
              "          element.appendChild(docLink);\n",
              "        }\n",
              "      </script>\n",
              "    </div>\n",
              "  </div>\n",
              "  "
            ]
          },
          "metadata": {},
          "execution_count": 12
        }
      ]
    },
    {
      "cell_type": "markdown",
      "source": [
        "---\n",
        "**Άσκηση 1**: Πώς θα μπορούσαμε να γράψουμε τον κώδικα σε ένα κελί ώστε να μας δώσει στο output ταυτόχρονα το shape και το head?\n"
      ],
      "metadata": {
        "id": "MNovo4FH3u7u"
      }
    },
    {
      "cell_type": "code",
      "source": [
        "print (df.head(), df.shape)"
      ],
      "metadata": {
        "id": "Zr6nYyJw3gxV",
        "colab": {
          "base_uri": "https://localhost:8080/"
        },
        "outputId": "d38e9618-fea1-4a54-d61f-15c1ce7ec791"
      },
      "execution_count": null,
      "outputs": [
        {
          "output_type": "stream",
          "name": "stdout",
          "text": [
            "               country   continent  gdp_per_capita  life_expectancy  \\\n",
            "0          Afghanistan        Asia             663           54.863   \n",
            "1              Albania      Europe            4195           74.200   \n",
            "2              Algeria      Africa            5098           68.963   \n",
            "3               Angola      Africa            2446           45.234   \n",
            "4  Antigua and Barbuda  N. America           12738           73.544   \n",
            "\n",
            "   population  \n",
            "0    22856302  \n",
            "1     3071856  \n",
            "2    30533827  \n",
            "3    13926373  \n",
            "4       77656   (188, 5)\n"
          ]
        }
      ]
    },
    {
      "cell_type": "markdown",
      "source": [
        "---"
      ],
      "metadata": {
        "id": "Z6qCivWU45r-"
      }
    },
    {
      "cell_type": "markdown",
      "source": [
        "---\n",
        "**Άσκηση 2**: Βρείτε τις ελάχιστες τιμές του προσδόκιμου ζωής και του κατά κεφαλή ΑΕΠ στρογγυλοποιημένες σε 1 δεκαδικό"
      ],
      "metadata": {
        "id": "nOncf3POtMZy"
      }
    },
    {
      "cell_type": "code",
      "source": [
        "df[['life_expectancy', 'gdp_per_capita']].min().round(1)"
      ],
      "metadata": {
        "id": "02qNbTJGtZJ4",
        "colab": {
          "base_uri": "https://localhost:8080/"
        },
        "outputId": "740e94cf-4c98-4d6c-c3b7-1420e59d9f8a"
      },
      "execution_count": null,
      "outputs": [
        {
          "output_type": "execute_result",
          "data": {
            "text/plain": [
              "life_expectancy     38.1\n",
              "gdp_per_capita     292.0\n",
              "dtype: float64"
            ]
          },
          "metadata": {},
          "execution_count": 60
        }
      ]
    },
    {
      "cell_type": "markdown",
      "source": [
        "---"
      ],
      "metadata": {
        "id": "2nOUvCRMtWTk"
      }
    },
    {
      "cell_type": "markdown",
      "source": [
        "---\n",
        "**Άσκηση 3**:\n",
        "\n",
        "Μετατρέψτε το προσδόκιμο ζωής σε ακέραιο και φτιάξτε τον πίνακα συχνοτήτων του"
      ],
      "metadata": {
        "id": "XJ7GLhzyrk9O"
      }
    },
    {
      "cell_type": "code",
      "source": [
        "print (df.life_expectancy.astype(int))\n",
        "df.life_expectancy.value_counts"
      ],
      "metadata": {
        "id": "f3Hn603Xr0-k",
        "colab": {
          "base_uri": "https://localhost:8080/"
        },
        "outputId": "96fa0251-4af1-4f15-da8c-80546de8bd60"
      },
      "execution_count": null,
      "outputs": [
        {
          "output_type": "stream",
          "name": "stdout",
          "text": [
            "0      54\n",
            "1      74\n",
            "2      68\n",
            "3      45\n",
            "4      73\n",
            "       ..\n",
            "183    73\n",
            "184    70\n",
            "185    60\n",
            "186    41\n",
            "187    43\n",
            "Name: life_expectancy, Length: 188, dtype: int64\n"
          ]
        },
        {
          "output_type": "execute_result",
          "data": {
            "text/plain": [
              "<bound method IndexOpsMixin.value_counts of 0      54.863\n",
              "1      74.200\n",
              "2      68.963\n",
              "3      45.234\n",
              "4      73.544\n",
              "        ...  \n",
              "183    73.777\n",
              "184    70.929\n",
              "185    60.404\n",
              "186    41.802\n",
              "187    43.976\n",
              "Name: life_expectancy, Length: 188, dtype: float64>"
            ]
          },
          "metadata": {},
          "execution_count": 28
        }
      ]
    },
    {
      "cell_type": "markdown",
      "source": [
        "---"
      ],
      "metadata": {
        "id": "iL-lyedNrxs0"
      }
    },
    {
      "cell_type": "markdown",
      "source": [
        "---\n",
        "**Άσκηση 4**:\n",
        "\n",
        "Ταξινομήστε το dataframe ως προς το gdp_per_capita σε φθίνουσα σειρά και εμφανίστε ένα dataframe μόνο με τις στήλες country και gdp_per_capita"
      ],
      "metadata": {
        "id": "5qidJkbXqbhj"
      }
    },
    {
      "cell_type": "code",
      "source": [
        "df.sort_values(['country','gdp_per_capita'], ascending = [True,False]).head()\n",
        "df[['country','gdp_per_capita']]"
      ],
      "metadata": {
        "id": "B5wC5bwSrEZW",
        "colab": {
          "base_uri": "https://localhost:8080/",
          "height": 419
        },
        "outputId": "0ba638d5-0124-49e2-a7d3-8feb24a2473d"
      },
      "execution_count": null,
      "outputs": [
        {
          "output_type": "execute_result",
          "data": {
            "text/plain": [
              "                 country  gdp_per_capita\n",
              "0            Afghanistan             663\n",
              "1                Albania            4195\n",
              "2                Algeria            5098\n",
              "3                 Angola            2446\n",
              "4    Antigua and Barbuda           12738\n",
              "..                   ...             ...\n",
              "183              Vietnam            1577\n",
              "184   West Bank and Gaza            7586\n",
              "185          Yemen, Rep.            2217\n",
              "186               Zambia            1035\n",
              "187             Zimbabwe             745\n",
              "\n",
              "[188 rows x 2 columns]"
            ],
            "text/html": [
              "\n",
              "  <div id=\"df-6a502657-cb94-435f-a677-b93a7f587abd\">\n",
              "    <div class=\"colab-df-container\">\n",
              "      <div>\n",
              "<style scoped>\n",
              "    .dataframe tbody tr th:only-of-type {\n",
              "        vertical-align: middle;\n",
              "    }\n",
              "\n",
              "    .dataframe tbody tr th {\n",
              "        vertical-align: top;\n",
              "    }\n",
              "\n",
              "    .dataframe thead th {\n",
              "        text-align: right;\n",
              "    }\n",
              "</style>\n",
              "<table border=\"1\" class=\"dataframe\">\n",
              "  <thead>\n",
              "    <tr style=\"text-align: right;\">\n",
              "      <th></th>\n",
              "      <th>country</th>\n",
              "      <th>gdp_per_capita</th>\n",
              "    </tr>\n",
              "  </thead>\n",
              "  <tbody>\n",
              "    <tr>\n",
              "      <th>0</th>\n",
              "      <td>Afghanistan</td>\n",
              "      <td>663</td>\n",
              "    </tr>\n",
              "    <tr>\n",
              "      <th>1</th>\n",
              "      <td>Albania</td>\n",
              "      <td>4195</td>\n",
              "    </tr>\n",
              "    <tr>\n",
              "      <th>2</th>\n",
              "      <td>Algeria</td>\n",
              "      <td>5098</td>\n",
              "    </tr>\n",
              "    <tr>\n",
              "      <th>3</th>\n",
              "      <td>Angola</td>\n",
              "      <td>2446</td>\n",
              "    </tr>\n",
              "    <tr>\n",
              "      <th>4</th>\n",
              "      <td>Antigua and Barbuda</td>\n",
              "      <td>12738</td>\n",
              "    </tr>\n",
              "    <tr>\n",
              "      <th>...</th>\n",
              "      <td>...</td>\n",
              "      <td>...</td>\n",
              "    </tr>\n",
              "    <tr>\n",
              "      <th>183</th>\n",
              "      <td>Vietnam</td>\n",
              "      <td>1577</td>\n",
              "    </tr>\n",
              "    <tr>\n",
              "      <th>184</th>\n",
              "      <td>West Bank and Gaza</td>\n",
              "      <td>7586</td>\n",
              "    </tr>\n",
              "    <tr>\n",
              "      <th>185</th>\n",
              "      <td>Yemen, Rep.</td>\n",
              "      <td>2217</td>\n",
              "    </tr>\n",
              "    <tr>\n",
              "      <th>186</th>\n",
              "      <td>Zambia</td>\n",
              "      <td>1035</td>\n",
              "    </tr>\n",
              "    <tr>\n",
              "      <th>187</th>\n",
              "      <td>Zimbabwe</td>\n",
              "      <td>745</td>\n",
              "    </tr>\n",
              "  </tbody>\n",
              "</table>\n",
              "<p>188 rows × 2 columns</p>\n",
              "</div>\n",
              "      <button class=\"colab-df-convert\" onclick=\"convertToInteractive('df-6a502657-cb94-435f-a677-b93a7f587abd')\"\n",
              "              title=\"Convert this dataframe to an interactive table.\"\n",
              "              style=\"display:none;\">\n",
              "        \n",
              "  <svg xmlns=\"http://www.w3.org/2000/svg\" height=\"24px\"viewBox=\"0 0 24 24\"\n",
              "       width=\"24px\">\n",
              "    <path d=\"M0 0h24v24H0V0z\" fill=\"none\"/>\n",
              "    <path d=\"M18.56 5.44l.94 2.06.94-2.06 2.06-.94-2.06-.94-.94-2.06-.94 2.06-2.06.94zm-11 1L8.5 8.5l.94-2.06 2.06-.94-2.06-.94L8.5 2.5l-.94 2.06-2.06.94zm10 10l.94 2.06.94-2.06 2.06-.94-2.06-.94-.94-2.06-.94 2.06-2.06.94z\"/><path d=\"M17.41 7.96l-1.37-1.37c-.4-.4-.92-.59-1.43-.59-.52 0-1.04.2-1.43.59L10.3 9.45l-7.72 7.72c-.78.78-.78 2.05 0 2.83L4 21.41c.39.39.9.59 1.41.59.51 0 1.02-.2 1.41-.59l7.78-7.78 2.81-2.81c.8-.78.8-2.07 0-2.86zM5.41 20L4 18.59l7.72-7.72 1.47 1.35L5.41 20z\"/>\n",
              "  </svg>\n",
              "      </button>\n",
              "      \n",
              "  <style>\n",
              "    .colab-df-container {\n",
              "      display:flex;\n",
              "      flex-wrap:wrap;\n",
              "      gap: 12px;\n",
              "    }\n",
              "\n",
              "    .colab-df-convert {\n",
              "      background-color: #E8F0FE;\n",
              "      border: none;\n",
              "      border-radius: 50%;\n",
              "      cursor: pointer;\n",
              "      display: none;\n",
              "      fill: #1967D2;\n",
              "      height: 32px;\n",
              "      padding: 0 0 0 0;\n",
              "      width: 32px;\n",
              "    }\n",
              "\n",
              "    .colab-df-convert:hover {\n",
              "      background-color: #E2EBFA;\n",
              "      box-shadow: 0px 1px 2px rgba(60, 64, 67, 0.3), 0px 1px 3px 1px rgba(60, 64, 67, 0.15);\n",
              "      fill: #174EA6;\n",
              "    }\n",
              "\n",
              "    [theme=dark] .colab-df-convert {\n",
              "      background-color: #3B4455;\n",
              "      fill: #D2E3FC;\n",
              "    }\n",
              "\n",
              "    [theme=dark] .colab-df-convert:hover {\n",
              "      background-color: #434B5C;\n",
              "      box-shadow: 0px 1px 3px 1px rgba(0, 0, 0, 0.15);\n",
              "      filter: drop-shadow(0px 1px 2px rgba(0, 0, 0, 0.3));\n",
              "      fill: #FFFFFF;\n",
              "    }\n",
              "  </style>\n",
              "\n",
              "      <script>\n",
              "        const buttonEl =\n",
              "          document.querySelector('#df-6a502657-cb94-435f-a677-b93a7f587abd button.colab-df-convert');\n",
              "        buttonEl.style.display =\n",
              "          google.colab.kernel.accessAllowed ? 'block' : 'none';\n",
              "\n",
              "        async function convertToInteractive(key) {\n",
              "          const element = document.querySelector('#df-6a502657-cb94-435f-a677-b93a7f587abd');\n",
              "          const dataTable =\n",
              "            await google.colab.kernel.invokeFunction('convertToInteractive',\n",
              "                                                     [key], {});\n",
              "          if (!dataTable) return;\n",
              "\n",
              "          const docLinkHtml = 'Like what you see? Visit the ' +\n",
              "            '<a target=\"_blank\" href=https://colab.research.google.com/notebooks/data_table.ipynb>data table notebook</a>'\n",
              "            + ' to learn more about interactive tables.';\n",
              "          element.innerHTML = '';\n",
              "          dataTable['output_type'] = 'display_data';\n",
              "          await google.colab.output.renderOutput(dataTable, element);\n",
              "          const docLink = document.createElement('div');\n",
              "          docLink.innerHTML = docLinkHtml;\n",
              "          element.appendChild(docLink);\n",
              "        }\n",
              "      </script>\n",
              "    </div>\n",
              "  </div>\n",
              "  "
            ]
          },
          "metadata": {},
          "execution_count": 34
        }
      ]
    },
    {
      "cell_type": "markdown",
      "source": [
        "---"
      ],
      "metadata": {
        "id": "WIjLMX4irE4r"
      }
    },
    {
      "cell_type": "markdown",
      "source": [
        "---\n",
        "**Άσκηση 5**:\n",
        "\n",
        "Βρείτε τις χώρες όπου το προσδόκιμο ζωής είναι μεγαλύτερο από το μέσο όρο και εμφανίστε ένα dataframe με τις στήλες country, life_expectancy και gdp_per_capita, ταξινομημένο ως προς το κατά κεφαλή gdp_per_capita με φθίνουσα σειρά \n",
        "\n",
        "(κάνετε όλα αυτά σε μια γραμμή κώδικα)"
      ],
      "metadata": {
        "id": "lD7kLPFinBrj"
      }
    },
    {
      "cell_type": "markdown",
      "source": [
        "DEN MPORW NA KATALAVW TI KANW LATHOS"
      ],
      "metadata": {
        "id": "OhLuUmRFKsKX"
      }
    },
    {
      "cell_type": "code",
      "source": [
        "df[df['life_expectancy'] > df['life_expectancy'].mean()][['country', 'life_expectancy', 'gdp_per_capita']].sort_values(by=['country', 'life_expectancy', 'gdp_per_capita'], ascending=[True, True, False])\n"
      ],
      "metadata": {
        "id": "yhmBsXf4nnuJ",
        "colab": {
          "base_uri": "https://localhost:8080/",
          "height": 419
        },
        "outputId": "479686ff-c6fb-4577-a4cf-dbc9fc0fe48a"
      },
      "execution_count": null,
      "outputs": [
        {
          "output_type": "execute_result",
          "data": {
            "text/plain": [
              "                 country  life_expectancy  gdp_per_capita\n",
              "1                Albania           74.200            4195\n",
              "2                Algeria           68.963            5098\n",
              "4    Antigua and Barbuda           73.544           12738\n",
              "5              Argentina           73.822           10571\n",
              "6                Armenia           71.494            2114\n",
              "..                   ...              ...             ...\n",
              "180           Uzbekistan           66.999            1635\n",
              "181              Vanuatu           67.438            3762\n",
              "182            Venezuela           72.432            9434\n",
              "183              Vietnam           73.777            1577\n",
              "184   West Bank and Gaza           70.929            7586\n",
              "\n",
              "[118 rows x 3 columns]"
            ],
            "text/html": [
              "\n",
              "  <div id=\"df-f6c3e9c1-d49a-4430-b6de-064d55e50e3f\">\n",
              "    <div class=\"colab-df-container\">\n",
              "      <div>\n",
              "<style scoped>\n",
              "    .dataframe tbody tr th:only-of-type {\n",
              "        vertical-align: middle;\n",
              "    }\n",
              "\n",
              "    .dataframe tbody tr th {\n",
              "        vertical-align: top;\n",
              "    }\n",
              "\n",
              "    .dataframe thead th {\n",
              "        text-align: right;\n",
              "    }\n",
              "</style>\n",
              "<table border=\"1\" class=\"dataframe\">\n",
              "  <thead>\n",
              "    <tr style=\"text-align: right;\">\n",
              "      <th></th>\n",
              "      <th>country</th>\n",
              "      <th>life_expectancy</th>\n",
              "      <th>gdp_per_capita</th>\n",
              "    </tr>\n",
              "  </thead>\n",
              "  <tbody>\n",
              "    <tr>\n",
              "      <th>1</th>\n",
              "      <td>Albania</td>\n",
              "      <td>74.200</td>\n",
              "      <td>4195</td>\n",
              "    </tr>\n",
              "    <tr>\n",
              "      <th>2</th>\n",
              "      <td>Algeria</td>\n",
              "      <td>68.963</td>\n",
              "      <td>5098</td>\n",
              "    </tr>\n",
              "    <tr>\n",
              "      <th>4</th>\n",
              "      <td>Antigua and Barbuda</td>\n",
              "      <td>73.544</td>\n",
              "      <td>12738</td>\n",
              "    </tr>\n",
              "    <tr>\n",
              "      <th>5</th>\n",
              "      <td>Argentina</td>\n",
              "      <td>73.822</td>\n",
              "      <td>10571</td>\n",
              "    </tr>\n",
              "    <tr>\n",
              "      <th>6</th>\n",
              "      <td>Armenia</td>\n",
              "      <td>71.494</td>\n",
              "      <td>2114</td>\n",
              "    </tr>\n",
              "    <tr>\n",
              "      <th>...</th>\n",
              "      <td>...</td>\n",
              "      <td>...</td>\n",
              "      <td>...</td>\n",
              "    </tr>\n",
              "    <tr>\n",
              "      <th>180</th>\n",
              "      <td>Uzbekistan</td>\n",
              "      <td>66.999</td>\n",
              "      <td>1635</td>\n",
              "    </tr>\n",
              "    <tr>\n",
              "      <th>181</th>\n",
              "      <td>Vanuatu</td>\n",
              "      <td>67.438</td>\n",
              "      <td>3762</td>\n",
              "    </tr>\n",
              "    <tr>\n",
              "      <th>182</th>\n",
              "      <td>Venezuela</td>\n",
              "      <td>72.432</td>\n",
              "      <td>9434</td>\n",
              "    </tr>\n",
              "    <tr>\n",
              "      <th>183</th>\n",
              "      <td>Vietnam</td>\n",
              "      <td>73.777</td>\n",
              "      <td>1577</td>\n",
              "    </tr>\n",
              "    <tr>\n",
              "      <th>184</th>\n",
              "      <td>West Bank and Gaza</td>\n",
              "      <td>70.929</td>\n",
              "      <td>7586</td>\n",
              "    </tr>\n",
              "  </tbody>\n",
              "</table>\n",
              "<p>118 rows × 3 columns</p>\n",
              "</div>\n",
              "      <button class=\"colab-df-convert\" onclick=\"convertToInteractive('df-f6c3e9c1-d49a-4430-b6de-064d55e50e3f')\"\n",
              "              title=\"Convert this dataframe to an interactive table.\"\n",
              "              style=\"display:none;\">\n",
              "        \n",
              "  <svg xmlns=\"http://www.w3.org/2000/svg\" height=\"24px\"viewBox=\"0 0 24 24\"\n",
              "       width=\"24px\">\n",
              "    <path d=\"M0 0h24v24H0V0z\" fill=\"none\"/>\n",
              "    <path d=\"M18.56 5.44l.94 2.06.94-2.06 2.06-.94-2.06-.94-.94-2.06-.94 2.06-2.06.94zm-11 1L8.5 8.5l.94-2.06 2.06-.94-2.06-.94L8.5 2.5l-.94 2.06-2.06.94zm10 10l.94 2.06.94-2.06 2.06-.94-2.06-.94-.94-2.06-.94 2.06-2.06.94z\"/><path d=\"M17.41 7.96l-1.37-1.37c-.4-.4-.92-.59-1.43-.59-.52 0-1.04.2-1.43.59L10.3 9.45l-7.72 7.72c-.78.78-.78 2.05 0 2.83L4 21.41c.39.39.9.59 1.41.59.51 0 1.02-.2 1.41-.59l7.78-7.78 2.81-2.81c.8-.78.8-2.07 0-2.86zM5.41 20L4 18.59l7.72-7.72 1.47 1.35L5.41 20z\"/>\n",
              "  </svg>\n",
              "      </button>\n",
              "      \n",
              "  <style>\n",
              "    .colab-df-container {\n",
              "      display:flex;\n",
              "      flex-wrap:wrap;\n",
              "      gap: 12px;\n",
              "    }\n",
              "\n",
              "    .colab-df-convert {\n",
              "      background-color: #E8F0FE;\n",
              "      border: none;\n",
              "      border-radius: 50%;\n",
              "      cursor: pointer;\n",
              "      display: none;\n",
              "      fill: #1967D2;\n",
              "      height: 32px;\n",
              "      padding: 0 0 0 0;\n",
              "      width: 32px;\n",
              "    }\n",
              "\n",
              "    .colab-df-convert:hover {\n",
              "      background-color: #E2EBFA;\n",
              "      box-shadow: 0px 1px 2px rgba(60, 64, 67, 0.3), 0px 1px 3px 1px rgba(60, 64, 67, 0.15);\n",
              "      fill: #174EA6;\n",
              "    }\n",
              "\n",
              "    [theme=dark] .colab-df-convert {\n",
              "      background-color: #3B4455;\n",
              "      fill: #D2E3FC;\n",
              "    }\n",
              "\n",
              "    [theme=dark] .colab-df-convert:hover {\n",
              "      background-color: #434B5C;\n",
              "      box-shadow: 0px 1px 3px 1px rgba(0, 0, 0, 0.15);\n",
              "      filter: drop-shadow(0px 1px 2px rgba(0, 0, 0, 0.3));\n",
              "      fill: #FFFFFF;\n",
              "    }\n",
              "  </style>\n",
              "\n",
              "      <script>\n",
              "        const buttonEl =\n",
              "          document.querySelector('#df-f6c3e9c1-d49a-4430-b6de-064d55e50e3f button.colab-df-convert');\n",
              "        buttonEl.style.display =\n",
              "          google.colab.kernel.accessAllowed ? 'block' : 'none';\n",
              "\n",
              "        async function convertToInteractive(key) {\n",
              "          const element = document.querySelector('#df-f6c3e9c1-d49a-4430-b6de-064d55e50e3f');\n",
              "          const dataTable =\n",
              "            await google.colab.kernel.invokeFunction('convertToInteractive',\n",
              "                                                     [key], {});\n",
              "          if (!dataTable) return;\n",
              "\n",
              "          const docLinkHtml = 'Like what you see? Visit the ' +\n",
              "            '<a target=\"_blank\" href=https://colab.research.google.com/notebooks/data_table.ipynb>data table notebook</a>'\n",
              "            + ' to learn more about interactive tables.';\n",
              "          element.innerHTML = '';\n",
              "          dataTable['output_type'] = 'display_data';\n",
              "          await google.colab.output.renderOutput(dataTable, element);\n",
              "          const docLink = document.createElement('div');\n",
              "          docLink.innerHTML = docLinkHtml;\n",
              "          element.appendChild(docLink);\n",
              "        }\n",
              "      </script>\n",
              "    </div>\n",
              "  </div>\n",
              "  "
            ]
          },
          "metadata": {},
          "execution_count": 69
        }
      ]
    },
    {
      "cell_type": "markdown",
      "source": [
        "---"
      ],
      "metadata": {
        "id": "aOZUwlxPDE2o"
      }
    },
    {
      "cell_type": "markdown",
      "source": [
        "---\n",
        "**Άσκηση 6**: \n",
        "\n",
        "Βρείτε τις χώρες της Ασίας όπου το προσδόκιμο ζωής είναι κάτω από 64 και ταξινομήστε τες σε αύξουσα σειρά (ως προς το όνομα των χωρών). Εμφανίστε τις 5 πρώτες.\n"
      ],
      "metadata": {
        "id": "fVQFvBXel05-"
      }
    },
    {
      "cell_type": "code",
      "source": [
        "df[(df['continent'] == 'Asia') & (df['life_expectancy'] < 64)].sort_values('country').head()"
      ],
      "metadata": {
        "id": "8cwKa4_ki2UM",
        "colab": {
          "base_uri": "https://localhost:8080/",
          "height": 204
        },
        "outputId": "6b9c8bee-521f-4332-aa52-9f3585fba344"
      },
      "execution_count": null,
      "outputs": [
        {
          "output_type": "execute_result",
          "data": {
            "text/plain": [
              "        country continent  gdp_per_capita  life_expectancy  population\n",
              "0   Afghanistan      Asia             663           54.863    22856302\n",
              "18       Bhutan      Asia            2922           60.307      571262\n",
              "27     Cambodia      Asia             982           62.030    12446949\n",
              "75        India      Asia            1648           62.129  1053898107\n",
              "85   Kazakhstan      Asia            5366           63.513    14956694"
            ],
            "text/html": [
              "\n",
              "  <div id=\"df-d6e35a8e-0334-45c1-81e8-657df37c9333\">\n",
              "    <div class=\"colab-df-container\">\n",
              "      <div>\n",
              "<style scoped>\n",
              "    .dataframe tbody tr th:only-of-type {\n",
              "        vertical-align: middle;\n",
              "    }\n",
              "\n",
              "    .dataframe tbody tr th {\n",
              "        vertical-align: top;\n",
              "    }\n",
              "\n",
              "    .dataframe thead th {\n",
              "        text-align: right;\n",
              "    }\n",
              "</style>\n",
              "<table border=\"1\" class=\"dataframe\">\n",
              "  <thead>\n",
              "    <tr style=\"text-align: right;\">\n",
              "      <th></th>\n",
              "      <th>country</th>\n",
              "      <th>continent</th>\n",
              "      <th>gdp_per_capita</th>\n",
              "      <th>life_expectancy</th>\n",
              "      <th>population</th>\n",
              "    </tr>\n",
              "  </thead>\n",
              "  <tbody>\n",
              "    <tr>\n",
              "      <th>0</th>\n",
              "      <td>Afghanistan</td>\n",
              "      <td>Asia</td>\n",
              "      <td>663</td>\n",
              "      <td>54.863</td>\n",
              "      <td>22856302</td>\n",
              "    </tr>\n",
              "    <tr>\n",
              "      <th>18</th>\n",
              "      <td>Bhutan</td>\n",
              "      <td>Asia</td>\n",
              "      <td>2922</td>\n",
              "      <td>60.307</td>\n",
              "      <td>571262</td>\n",
              "    </tr>\n",
              "    <tr>\n",
              "      <th>27</th>\n",
              "      <td>Cambodia</td>\n",
              "      <td>Asia</td>\n",
              "      <td>982</td>\n",
              "      <td>62.030</td>\n",
              "      <td>12446949</td>\n",
              "    </tr>\n",
              "    <tr>\n",
              "      <th>75</th>\n",
              "      <td>India</td>\n",
              "      <td>Asia</td>\n",
              "      <td>1648</td>\n",
              "      <td>62.129</td>\n",
              "      <td>1053898107</td>\n",
              "    </tr>\n",
              "    <tr>\n",
              "      <th>85</th>\n",
              "      <td>Kazakhstan</td>\n",
              "      <td>Asia</td>\n",
              "      <td>5366</td>\n",
              "      <td>63.513</td>\n",
              "      <td>14956694</td>\n",
              "    </tr>\n",
              "  </tbody>\n",
              "</table>\n",
              "</div>\n",
              "      <button class=\"colab-df-convert\" onclick=\"convertToInteractive('df-d6e35a8e-0334-45c1-81e8-657df37c9333')\"\n",
              "              title=\"Convert this dataframe to an interactive table.\"\n",
              "              style=\"display:none;\">\n",
              "        \n",
              "  <svg xmlns=\"http://www.w3.org/2000/svg\" height=\"24px\"viewBox=\"0 0 24 24\"\n",
              "       width=\"24px\">\n",
              "    <path d=\"M0 0h24v24H0V0z\" fill=\"none\"/>\n",
              "    <path d=\"M18.56 5.44l.94 2.06.94-2.06 2.06-.94-2.06-.94-.94-2.06-.94 2.06-2.06.94zm-11 1L8.5 8.5l.94-2.06 2.06-.94-2.06-.94L8.5 2.5l-.94 2.06-2.06.94zm10 10l.94 2.06.94-2.06 2.06-.94-2.06-.94-.94-2.06-.94 2.06-2.06.94z\"/><path d=\"M17.41 7.96l-1.37-1.37c-.4-.4-.92-.59-1.43-.59-.52 0-1.04.2-1.43.59L10.3 9.45l-7.72 7.72c-.78.78-.78 2.05 0 2.83L4 21.41c.39.39.9.59 1.41.59.51 0 1.02-.2 1.41-.59l7.78-7.78 2.81-2.81c.8-.78.8-2.07 0-2.86zM5.41 20L4 18.59l7.72-7.72 1.47 1.35L5.41 20z\"/>\n",
              "  </svg>\n",
              "      </button>\n",
              "      \n",
              "  <style>\n",
              "    .colab-df-container {\n",
              "      display:flex;\n",
              "      flex-wrap:wrap;\n",
              "      gap: 12px;\n",
              "    }\n",
              "\n",
              "    .colab-df-convert {\n",
              "      background-color: #E8F0FE;\n",
              "      border: none;\n",
              "      border-radius: 50%;\n",
              "      cursor: pointer;\n",
              "      display: none;\n",
              "      fill: #1967D2;\n",
              "      height: 32px;\n",
              "      padding: 0 0 0 0;\n",
              "      width: 32px;\n",
              "    }\n",
              "\n",
              "    .colab-df-convert:hover {\n",
              "      background-color: #E2EBFA;\n",
              "      box-shadow: 0px 1px 2px rgba(60, 64, 67, 0.3), 0px 1px 3px 1px rgba(60, 64, 67, 0.15);\n",
              "      fill: #174EA6;\n",
              "    }\n",
              "\n",
              "    [theme=dark] .colab-df-convert {\n",
              "      background-color: #3B4455;\n",
              "      fill: #D2E3FC;\n",
              "    }\n",
              "\n",
              "    [theme=dark] .colab-df-convert:hover {\n",
              "      background-color: #434B5C;\n",
              "      box-shadow: 0px 1px 3px 1px rgba(0, 0, 0, 0.15);\n",
              "      filter: drop-shadow(0px 1px 2px rgba(0, 0, 0, 0.3));\n",
              "      fill: #FFFFFF;\n",
              "    }\n",
              "  </style>\n",
              "\n",
              "      <script>\n",
              "        const buttonEl =\n",
              "          document.querySelector('#df-d6e35a8e-0334-45c1-81e8-657df37c9333 button.colab-df-convert');\n",
              "        buttonEl.style.display =\n",
              "          google.colab.kernel.accessAllowed ? 'block' : 'none';\n",
              "\n",
              "        async function convertToInteractive(key) {\n",
              "          const element = document.querySelector('#df-d6e35a8e-0334-45c1-81e8-657df37c9333');\n",
              "          const dataTable =\n",
              "            await google.colab.kernel.invokeFunction('convertToInteractive',\n",
              "                                                     [key], {});\n",
              "          if (!dataTable) return;\n",
              "\n",
              "          const docLinkHtml = 'Like what you see? Visit the ' +\n",
              "            '<a target=\"_blank\" href=https://colab.research.google.com/notebooks/data_table.ipynb>data table notebook</a>'\n",
              "            + ' to learn more about interactive tables.';\n",
              "          element.innerHTML = '';\n",
              "          dataTable['output_type'] = 'display_data';\n",
              "          await google.colab.output.renderOutput(dataTable, element);\n",
              "          const docLink = document.createElement('div');\n",
              "          docLink.innerHTML = docLinkHtml;\n",
              "          element.appendChild(docLink);\n",
              "        }\n",
              "      </script>\n",
              "    </div>\n",
              "  </div>\n",
              "  "
            ]
          },
          "metadata": {},
          "execution_count": 80
        }
      ]
    },
    {
      "cell_type": "markdown",
      "source": [
        "---\n",
        "**Άσκηση 7**: Βρείτε τη χώρα με το μικρότερο προσδόκιμο ζωής [min()]"
      ],
      "metadata": {
        "id": "BSxv5U6VwcwK"
      }
    },
    {
      "cell_type": "code",
      "source": [
        "df[df['life_expectancy'] == df['life_expectancy'].min()] ['country']"
      ],
      "metadata": {
        "id": "yS1TYq7luq4S",
        "colab": {
          "base_uri": "https://localhost:8080/"
        },
        "outputId": "27d88099-6237-41e0-e7ab-9f74bb6c4b13"
      },
      "execution_count": null,
      "outputs": [
        {
          "output_type": "execute_result",
          "data": {
            "text/plain": [
              "147    Sierra Leone\n",
              "Name: country, dtype: object"
            ]
          },
          "metadata": {},
          "execution_count": 106
        }
      ]
    },
    {
      "cell_type": "markdown",
      "source": [
        "---\n",
        "\n",
        "**Άσκηση 8**: Βρείτε τις χώρες όπου το προσδόκιμο ζωής είναι από ένα χρόνο κάτω έως ένα χρόνο πάνω του μέσου όρου"
      ],
      "metadata": {
        "id": "TvbzLVB5zJE2"
      }
    },
    {
      "cell_type": "code",
      "source": [],
      "metadata": {
        "id": "tygppC6HyKU7"
      },
      "execution_count": null,
      "outputs": []
    },
    {
      "cell_type": "markdown",
      "source": [
        "---"
      ],
      "metadata": {
        "id": "E12TU0eVmOyN"
      }
    },
    {
      "cell_type": "markdown",
      "source": [
        "---\n",
        "**Άσκηση 9**: \n",
        "\n",
        "Βρείτε το συνολικό πληθυσμό (sum) σε κάθε ήπειρο "
      ],
      "metadata": {
        "id": "eJ1aUzZNkstY"
      }
    },
    {
      "cell_type": "code",
      "source": [
        "# γκρουπάρισμα ανά ήπειρο και εύρεση του συνολικού πληθυσμού της\n",
        "df.groupby ('continent')['population'].sum()"
      ],
      "metadata": {
        "id": "DtLeMhJthBMC",
        "colab": {
          "base_uri": "https://localhost:8080/"
        },
        "outputId": "19780ff1-31c0-4953-ccd0-5d00e2fdb8eb"
      },
      "execution_count": null,
      "outputs": [
        {
          "output_type": "execute_result",
          "data": {
            "text/plain": [
              "continent\n",
              "Africa         809892820\n",
              "Asia          3849172861\n",
              "Europe         596440013\n",
              "N. America     481999240\n",
              "Oceania         30272328\n",
              "S. America     347265096\n",
              "Name: population, dtype: int64"
            ]
          },
          "metadata": {},
          "execution_count": 109
        }
      ]
    },
    {
      "cell_type": "markdown",
      "source": [
        "---\n",
        "\n",
        "**Άσκηση 10**: \n",
        "\n",
        "Βρείτε σε ποιες ηπείρους ο μέσος όρος του προσδόκιμου ζωής είναι μικρότερος από 55"
      ],
      "metadata": {
        "id": "PfoEAcf0lFLM"
      }
    },
    {
      "cell_type": "code",
      "source": [
        "df.groupby('continent')['life_expectancy'].mean()<55"
      ],
      "metadata": {
        "id": "8Hn1K82wjEdB",
        "colab": {
          "base_uri": "https://localhost:8080/"
        },
        "outputId": "80abe498-8afd-4cde-da1e-9af784edea6f"
      },
      "execution_count": null,
      "outputs": [
        {
          "output_type": "execute_result",
          "data": {
            "text/plain": [
              "continent\n",
              "Africa         True\n",
              "Asia          False\n",
              "Europe        False\n",
              "N. America    False\n",
              "Oceania       False\n",
              "S. America    False\n",
              "Name: life_expectancy, dtype: bool"
            ]
          },
          "metadata": {},
          "execution_count": 115
        }
      ]
    },
    {
      "cell_type": "markdown",
      "source": [
        "---\n",
        "**Άσκηση 11**:\n",
        "\n",
        "Βρείτε πόσες χώρες υπάρχουν σε κάθε ήπειρο (count) και ταξινομήστε το αποτέλεσμα σε φθίνουσα σειρά\n"
      ],
      "metadata": {
        "id": "vRQgku8T2XZx"
      }
    },
    {
      "cell_type": "code",
      "source": [
        "df.groupby('continent')['country'].count().sort_values(ascending = [False])"
      ],
      "metadata": {
        "id": "f6-PSUiK2lUQ",
        "colab": {
          "base_uri": "https://localhost:8080/"
        },
        "outputId": "0096a039-00bd-417f-d90e-90ed7fea457f"
      },
      "execution_count": null,
      "outputs": [
        {
          "output_type": "execute_result",
          "data": {
            "text/plain": [
              "continent\n",
              "Africa        54\n",
              "Asia          48\n",
              "Europe        42\n",
              "N. America    22\n",
              "S. America    12\n",
              "Oceania       10\n",
              "Name: country, dtype: int64"
            ]
          },
          "metadata": {},
          "execution_count": 116
        }
      ]
    },
    {
      "cell_type": "markdown",
      "source": [
        "---"
      ],
      "metadata": {
        "id": "n1USRLC1Dc6A"
      }
    },
    {
      "cell_type": "markdown",
      "source": [
        "---\n",
        "**Άσκηση 11**:\n",
        "\n",
        "Ακαθάριστο Εγχώριο Προϊόν (ΑΕΠ / GDP) είναι το σύνολο των προϊόντων, υλικών και άυλων, που παράχθηκαν μέσα στην επικράτεια μιας χώρας σε διάστημα ενός έτους, εκφρασμένο σε χρηματικές μονάδες, ακόμα και αν μέρος αυτού παράχθηκε από παραγωγικές μονάδες που ανήκουν σε κατοίκους του εξωτερικού.\n",
        "\n",
        "Το κατά κεφαλή ΑΕΠ (gdp per capita) είναι το μέρος του ΑΕΠ μιας χώρας που θεωρητικά αναλογεί σε κάθε της κάτοικο. Προκύπτει από τη σχέση: gdp_per_capita = GDP / population.\n",
        "\n",
        "Στο dataframe έχουμε το gdp_per_capita και το population. \n",
        "* Βρείτε το ΑΕΠ κάθε χώρας και αποθηκεύστε το στο dataframe σε μια νέα στήλη με όνομα \"gdp\"."
      ],
      "metadata": {
        "id": "0AGSxvlMMNzq"
      }
    },
    {
      "cell_type": "code",
      "source": [
        "df ['gdp'] = df['gdp_per_capita'] / df['population']\n",
        "df.head()"
      ],
      "metadata": {
        "id": "yJBZ_kBQFMCl",
        "colab": {
          "base_uri": "https://localhost:8080/",
          "height": 204
        },
        "outputId": "5403b0f1-fcd4-4a61-f1e2-6a0106dcfb0e"
      },
      "execution_count": null,
      "outputs": [
        {
          "output_type": "execute_result",
          "data": {
            "text/plain": [
              "               country   continent  gdp_per_capita  life_expectancy  \\\n",
              "0          Afghanistan        Asia             663           54.863   \n",
              "1              Albania      Europe            4195           74.200   \n",
              "2              Algeria      Africa            5098           68.963   \n",
              "3               Angola      Africa            2446           45.234   \n",
              "4  Antigua and Barbuda  N. America           12738           73.544   \n",
              "\n",
              "   population   millions       gdp  \n",
              "0    22856302  22.856302  0.000029  \n",
              "1     3071856   3.071856  0.001366  \n",
              "2    30533827  30.533827  0.000167  \n",
              "3    13926373  13.926373  0.000176  \n",
              "4       77656   0.077656  0.164031  "
            ],
            "text/html": [
              "\n",
              "  <div id=\"df-d7e47e7f-ec4a-4fed-9da8-29cb0dc061ca\">\n",
              "    <div class=\"colab-df-container\">\n",
              "      <div>\n",
              "<style scoped>\n",
              "    .dataframe tbody tr th:only-of-type {\n",
              "        vertical-align: middle;\n",
              "    }\n",
              "\n",
              "    .dataframe tbody tr th {\n",
              "        vertical-align: top;\n",
              "    }\n",
              "\n",
              "    .dataframe thead th {\n",
              "        text-align: right;\n",
              "    }\n",
              "</style>\n",
              "<table border=\"1\" class=\"dataframe\">\n",
              "  <thead>\n",
              "    <tr style=\"text-align: right;\">\n",
              "      <th></th>\n",
              "      <th>country</th>\n",
              "      <th>continent</th>\n",
              "      <th>gdp_per_capita</th>\n",
              "      <th>life_expectancy</th>\n",
              "      <th>population</th>\n",
              "      <th>millions</th>\n",
              "      <th>gdp</th>\n",
              "    </tr>\n",
              "  </thead>\n",
              "  <tbody>\n",
              "    <tr>\n",
              "      <th>0</th>\n",
              "      <td>Afghanistan</td>\n",
              "      <td>Asia</td>\n",
              "      <td>663</td>\n",
              "      <td>54.863</td>\n",
              "      <td>22856302</td>\n",
              "      <td>22.856302</td>\n",
              "      <td>0.000029</td>\n",
              "    </tr>\n",
              "    <tr>\n",
              "      <th>1</th>\n",
              "      <td>Albania</td>\n",
              "      <td>Europe</td>\n",
              "      <td>4195</td>\n",
              "      <td>74.200</td>\n",
              "      <td>3071856</td>\n",
              "      <td>3.071856</td>\n",
              "      <td>0.001366</td>\n",
              "    </tr>\n",
              "    <tr>\n",
              "      <th>2</th>\n",
              "      <td>Algeria</td>\n",
              "      <td>Africa</td>\n",
              "      <td>5098</td>\n",
              "      <td>68.963</td>\n",
              "      <td>30533827</td>\n",
              "      <td>30.533827</td>\n",
              "      <td>0.000167</td>\n",
              "    </tr>\n",
              "    <tr>\n",
              "      <th>3</th>\n",
              "      <td>Angola</td>\n",
              "      <td>Africa</td>\n",
              "      <td>2446</td>\n",
              "      <td>45.234</td>\n",
              "      <td>13926373</td>\n",
              "      <td>13.926373</td>\n",
              "      <td>0.000176</td>\n",
              "    </tr>\n",
              "    <tr>\n",
              "      <th>4</th>\n",
              "      <td>Antigua and Barbuda</td>\n",
              "      <td>N. America</td>\n",
              "      <td>12738</td>\n",
              "      <td>73.544</td>\n",
              "      <td>77656</td>\n",
              "      <td>0.077656</td>\n",
              "      <td>0.164031</td>\n",
              "    </tr>\n",
              "  </tbody>\n",
              "</table>\n",
              "</div>\n",
              "      <button class=\"colab-df-convert\" onclick=\"convertToInteractive('df-d7e47e7f-ec4a-4fed-9da8-29cb0dc061ca')\"\n",
              "              title=\"Convert this dataframe to an interactive table.\"\n",
              "              style=\"display:none;\">\n",
              "        \n",
              "  <svg xmlns=\"http://www.w3.org/2000/svg\" height=\"24px\"viewBox=\"0 0 24 24\"\n",
              "       width=\"24px\">\n",
              "    <path d=\"M0 0h24v24H0V0z\" fill=\"none\"/>\n",
              "    <path d=\"M18.56 5.44l.94 2.06.94-2.06 2.06-.94-2.06-.94-.94-2.06-.94 2.06-2.06.94zm-11 1L8.5 8.5l.94-2.06 2.06-.94-2.06-.94L8.5 2.5l-.94 2.06-2.06.94zm10 10l.94 2.06.94-2.06 2.06-.94-2.06-.94-.94-2.06-.94 2.06-2.06.94z\"/><path d=\"M17.41 7.96l-1.37-1.37c-.4-.4-.92-.59-1.43-.59-.52 0-1.04.2-1.43.59L10.3 9.45l-7.72 7.72c-.78.78-.78 2.05 0 2.83L4 21.41c.39.39.9.59 1.41.59.51 0 1.02-.2 1.41-.59l7.78-7.78 2.81-2.81c.8-.78.8-2.07 0-2.86zM5.41 20L4 18.59l7.72-7.72 1.47 1.35L5.41 20z\"/>\n",
              "  </svg>\n",
              "      </button>\n",
              "      \n",
              "  <style>\n",
              "    .colab-df-container {\n",
              "      display:flex;\n",
              "      flex-wrap:wrap;\n",
              "      gap: 12px;\n",
              "    }\n",
              "\n",
              "    .colab-df-convert {\n",
              "      background-color: #E8F0FE;\n",
              "      border: none;\n",
              "      border-radius: 50%;\n",
              "      cursor: pointer;\n",
              "      display: none;\n",
              "      fill: #1967D2;\n",
              "      height: 32px;\n",
              "      padding: 0 0 0 0;\n",
              "      width: 32px;\n",
              "    }\n",
              "\n",
              "    .colab-df-convert:hover {\n",
              "      background-color: #E2EBFA;\n",
              "      box-shadow: 0px 1px 2px rgba(60, 64, 67, 0.3), 0px 1px 3px 1px rgba(60, 64, 67, 0.15);\n",
              "      fill: #174EA6;\n",
              "    }\n",
              "\n",
              "    [theme=dark] .colab-df-convert {\n",
              "      background-color: #3B4455;\n",
              "      fill: #D2E3FC;\n",
              "    }\n",
              "\n",
              "    [theme=dark] .colab-df-convert:hover {\n",
              "      background-color: #434B5C;\n",
              "      box-shadow: 0px 1px 3px 1px rgba(0, 0, 0, 0.15);\n",
              "      filter: drop-shadow(0px 1px 2px rgba(0, 0, 0, 0.3));\n",
              "      fill: #FFFFFF;\n",
              "    }\n",
              "  </style>\n",
              "\n",
              "      <script>\n",
              "        const buttonEl =\n",
              "          document.querySelector('#df-d7e47e7f-ec4a-4fed-9da8-29cb0dc061ca button.colab-df-convert');\n",
              "        buttonEl.style.display =\n",
              "          google.colab.kernel.accessAllowed ? 'block' : 'none';\n",
              "\n",
              "        async function convertToInteractive(key) {\n",
              "          const element = document.querySelector('#df-d7e47e7f-ec4a-4fed-9da8-29cb0dc061ca');\n",
              "          const dataTable =\n",
              "            await google.colab.kernel.invokeFunction('convertToInteractive',\n",
              "                                                     [key], {});\n",
              "          if (!dataTable) return;\n",
              "\n",
              "          const docLinkHtml = 'Like what you see? Visit the ' +\n",
              "            '<a target=\"_blank\" href=https://colab.research.google.com/notebooks/data_table.ipynb>data table notebook</a>'\n",
              "            + ' to learn more about interactive tables.';\n",
              "          element.innerHTML = '';\n",
              "          dataTable['output_type'] = 'display_data';\n",
              "          await google.colab.output.renderOutput(dataTable, element);\n",
              "          const docLink = document.createElement('div');\n",
              "          docLink.innerHTML = docLinkHtml;\n",
              "          element.appendChild(docLink);\n",
              "        }\n",
              "      </script>\n",
              "    </div>\n",
              "  </div>\n",
              "  "
            ]
          },
          "metadata": {},
          "execution_count": 121
        }
      ]
    },
    {
      "cell_type": "markdown",
      "source": [
        "---"
      ],
      "metadata": {
        "id": "2A66SafaOPKt"
      }
    },
    {
      "cell_type": "markdown",
      "source": [
        "---\n",
        "**Άσκηση 12**:\n",
        "\n",
        "Βρείτε το μ.ο. του κατά κεφαλή ΑΕΠ ανά ήπειρο και φτιάξτε ένα γράφημμα πίτας (pie chart).\n",
        "\n",
        "Help: \n",
        "* η λογική είναι: ομαδοποίηση ανά ήπειρο, μέσος όρος του κατά κεφαλή ΑΕΠ, σχεδίαση σε γράφημα πίτας\n",
        "* το γράφημα πίτας στην plot() λέγεται pie\n"
      ],
      "metadata": {
        "id": "j2Hi9kTIAeSJ"
      }
    },
    {
      "cell_type": "code",
      "source": [
        "df.groupby('continent')['gdp'].mean().plot(kind='pie')"
      ],
      "metadata": {
        "id": "AQny4ouz_f3U",
        "colab": {
          "base_uri": "https://localhost:8080/",
          "height": 423
        },
        "outputId": "9bcd9f1f-c04b-47cb-ff5f-9849e684c503"
      },
      "execution_count": null,
      "outputs": [
        {
          "output_type": "execute_result",
          "data": {
            "text/plain": [
              "<Axes: ylabel='gdp'>"
            ]
          },
          "metadata": {},
          "execution_count": 139
        },
        {
          "output_type": "display_data",
          "data": {
            "text/plain": [
              "<Figure size 640x480 with 1 Axes>"
            ],
            "image/png": "[encoded data removed]"
          },
          "metadata": {}
        }
      ]
    },
    {
      "cell_type": "markdown",
      "source": [
        "---"
      ],
      "metadata": {
        "id": "c4OMhiMeCfSe"
      }
    }
  ]
}