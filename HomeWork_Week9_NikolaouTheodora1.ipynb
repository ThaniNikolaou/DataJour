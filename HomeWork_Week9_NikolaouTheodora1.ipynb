{
  "nbformat": 4,
  "nbformat_minor": 0,
  "metadata": {
    "colab": {
      "provenance": [],
      "mount_file_id": "12iVMpxYgluxEt2ugrIkFtJ21OuLM8_JB",
      "authorship_tag": "ABX9TyNFzOr3vgcjXcB6tnDAf/GK",
      "include_colab_link": true
    },
    "kernelspec": {
      "name": "python3",
      "display_name": "Python 3"
    },
    "language_info": {
      "name": "python"
    }
  },
  "cells": [
    {
      "cell_type": "markdown",
      "metadata": {
        "id": "view-in-github",
        "colab_type": "text"
      },
      "source": [
        "<a href=\"https://colab.research.google.com/github/ThaniNikolaou/DataJour/blob/main/HomeWork_Week9_NikolaouTheodora1.ipynb\" target=\"_parent\"><img src=\"https://colab.research.google.com/assets/colab-badge.svg\" alt=\"Open In Colab\"/></a>"
      ]
    },
    {
      "cell_type": "code",
      "execution_count": 1,
      "metadata": {
        "id": "hl2AaMOy8iX-"
      },
      "outputs": [],
      "source": [
        "import requests\n",
        "from bs4 import BeautifulSoup\n",
        "import pandas as pd\n",
        "import numpy as np\n",
        "import matplotlib.pyplot as plt\n",
        "import spacy\n",
        "from wordcloud import WordCloud\n",
        "import seaborn as sns\n",
        "import time\n",
        "from sklearn.feature_extraction.text import CountVectorizer"
      ]
    },
    {
      "cell_type": "code",
      "source": [
        "!python -m spacy download el_core_news_sm"
      ],
      "metadata": {
        "id": "rbtdBkkKGUGv"
      },
      "execution_count": 2,
      "outputs": []
    },
    {
      "cell_type": "code",
      "source": [
        "nlp = spacy.load('el_core_news_sm')"
      ],
      "metadata": {
        "id": "_8mxeg8fGCpf"
      },
      "execution_count": 3,
      "outputs": []
    },
    {
      "cell_type": "code",
      "source": [
        "cv = CountVectorizer()"
      ],
      "metadata": {
        "id": "LJucMHL-9lb6"
      },
      "execution_count": 4,
      "outputs": []
    },
    {
      "cell_type": "markdown",
      "source": [
        "**NEWSBEAST**"
      ],
      "metadata": {
        "id": "vWyYtxFfK8EV"
      }
    },
    {
      "cell_type": "code",
      "source": [
        "newsbeast_full_articles_df = pd.read_csv('/content/drive/MyDrive/DATA_JOUR/newsbeast_full_articles.csv')"
      ],
      "metadata": {
        "id": "AyQOS4VGBh1o"
      },
      "execution_count": 5,
      "outputs": []
    },
    {
      "cell_type": "code",
      "source": [
        "newsbeast_full_articles_df"
      ],
      "metadata": {
        "id": "5SykZ_W2CPH7"
      },
      "execution_count": null,
      "outputs": []
    },
    {
      "cell_type": "code",
      "source": [
        "count_vector_newsbeast = cv.fit_transform(newsbeast_full_articles_df['full_text'])"
      ],
      "metadata": {
        "id": "UOao_xx-EmQJ"
      },
      "execution_count": 7,
      "outputs": []
    },
    {
      "cell_type": "code",
      "source": [
        "count_vector_newsbeast.shape"
      ],
      "metadata": {
        "id": "EdBq80ouEv95"
      },
      "execution_count": null,
      "outputs": []
    },
    {
      "cell_type": "code",
      "source": [
        "cv = CountVectorizer(stop_words= list(nlp.Defaults.stop_words))"
      ],
      "metadata": {
        "id": "MGJAValwFL9D"
      },
      "execution_count": 9,
      "outputs": []
    },
    {
      "cell_type": "code",
      "source": [
        "count_vector_newsbeast = cv.fit_transform(newsbeast_full_articles_df['full_text'])"
      ],
      "metadata": {
        "id": "3pvNBW0rG_I-"
      },
      "execution_count": 10,
      "outputs": []
    },
    {
      "cell_type": "code",
      "source": [
        "results_newsbeast = pd.DataFrame(count_vector_newsbeast.toarray(), columns=cv.get_feature_names_out()) \n",
        "results_newsbeast.head()"
      ],
      "metadata": {
        "id": "Oxpyg3V2HITI"
      },
      "execution_count": null,
      "outputs": []
    },
    {
      "cell_type": "code",
      "source": [
        "cv = CountVectorizer(stop_words= list(nlp.Defaults.stop_words), min_df=0.01, max_df=0.95)\n",
        "count_vector_newsbeast = cv.fit_transform(newsbeast_full_articles_df['full_text'])\n",
        "results_newsbeast = pd.DataFrame(count_vector_newsbeast.toarray(), columns=cv.get_feature_names_out()) \n",
        "results_newsbeast.head()"
      ],
      "metadata": {
        "id": "F0ciMCGxJjAw"
      },
      "execution_count": null,
      "outputs": []
    },
    {
      "cell_type": "code",
      "source": [
        "cv = CountVectorizer(stop_words= list(nlp.Defaults.stop_words), max_features=60)\n",
        "count_vector_newsbeast = cv.fit_transform(newsbeast_full_articles_df['full_text'])\n",
        "results_newsbeast = pd.DataFrame(count_vector_newsbeast.toarray(), columns=cv.get_feature_names_out()) \n",
        "results_newsbeast.head()"
      ],
      "metadata": {
        "id": "GLa6brHHLkkD"
      },
      "execution_count": null,
      "outputs": []
    },
    {
      "cell_type": "code",
      "source": [
        "cv = CountVectorizer(stop_words= list(nlp.Defaults.stop_words), max_features=20, token_pattern = '\\bυπάρχ[ω]*\\b')\n",
        "count_vector_newsbeast = cv.fit_transform(newsbeast_full_articles_df['full_text'])\n",
        "results_newsbeast = pd.DataFrame(count_vector_newsbeast.toarray(), columns=cv.get_feature_names_out()) \n",
        "results_newsbeast.head()"
      ],
      "metadata": {
        "colab": {
          "base_uri": "https://localhost:8080/",
          "height": 364
        },
        "id": "5WOWyVwbNyte",
        "outputId": "46c241b5-a4d6-40b4-d84a-07bad542d34c"
      },
      "execution_count": 14,
      "outputs": [
        {
          "output_type": "error",
          "ename": "ValueError",
          "evalue": "ignored",
          "traceback": [
            "\u001b[0;31m---------------------------------------------------------------------------\u001b[0m",
            "\u001b[0;31mValueError\u001b[0m                                Traceback (most recent call last)",
            "\u001b[0;32m<ipython-input-14-23380352ad7c>\u001b[0m in \u001b[0;36m<cell line: 2>\u001b[0;34m()\u001b[0m\n\u001b[1;32m      1\u001b[0m \u001b[0mcv\u001b[0m \u001b[0;34m=\u001b[0m \u001b[0mCountVectorizer\u001b[0m\u001b[0;34m(\u001b[0m\u001b[0mstop_words\u001b[0m\u001b[0;34m=\u001b[0m \u001b[0mlist\u001b[0m\u001b[0;34m(\u001b[0m\u001b[0mnlp\u001b[0m\u001b[0;34m.\u001b[0m\u001b[0mDefaults\u001b[0m\u001b[0;34m.\u001b[0m\u001b[0mstop_words\u001b[0m\u001b[0;34m)\u001b[0m\u001b[0;34m,\u001b[0m \u001b[0mmax_features\u001b[0m\u001b[0;34m=\u001b[0m\u001b[0;36m20\u001b[0m\u001b[0;34m,\u001b[0m \u001b[0mtoken_pattern\u001b[0m \u001b[0;34m=\u001b[0m \u001b[0;34m'\\bυπάρχ[ω]*\\b'\u001b[0m\u001b[0;34m)\u001b[0m\u001b[0;34m\u001b[0m\u001b[0;34m\u001b[0m\u001b[0m\n\u001b[0;32m----> 2\u001b[0;31m \u001b[0mcount_vector_newsbeast\u001b[0m \u001b[0;34m=\u001b[0m \u001b[0mcv\u001b[0m\u001b[0;34m.\u001b[0m\u001b[0mfit_transform\u001b[0m\u001b[0;34m(\u001b[0m\u001b[0mnewsbeast_full_articles_df\u001b[0m\u001b[0;34m[\u001b[0m\u001b[0;34m'full_text'\u001b[0m\u001b[0;34m]\u001b[0m\u001b[0;34m)\u001b[0m\u001b[0;34m\u001b[0m\u001b[0;34m\u001b[0m\u001b[0m\n\u001b[0m\u001b[1;32m      3\u001b[0m \u001b[0mresults_newsbeast\u001b[0m \u001b[0;34m=\u001b[0m \u001b[0mpd\u001b[0m\u001b[0;34m.\u001b[0m\u001b[0mDataFrame\u001b[0m\u001b[0;34m(\u001b[0m\u001b[0mcount_vector_newsbeast\u001b[0m\u001b[0;34m.\u001b[0m\u001b[0mtoarray\u001b[0m\u001b[0;34m(\u001b[0m\u001b[0;34m)\u001b[0m\u001b[0;34m,\u001b[0m \u001b[0mcolumns\u001b[0m\u001b[0;34m=\u001b[0m\u001b[0mcv\u001b[0m\u001b[0;34m.\u001b[0m\u001b[0mget_feature_names_out\u001b[0m\u001b[0;34m(\u001b[0m\u001b[0;34m)\u001b[0m\u001b[0;34m)\u001b[0m\u001b[0;34m\u001b[0m\u001b[0;34m\u001b[0m\u001b[0m\n\u001b[1;32m      4\u001b[0m \u001b[0mresults_newsbeast\u001b[0m\u001b[0;34m.\u001b[0m\u001b[0mhead\u001b[0m\u001b[0;34m(\u001b[0m\u001b[0;34m)\u001b[0m\u001b[0;34m\u001b[0m\u001b[0;34m\u001b[0m\u001b[0m\n",
            "\u001b[0;32m/usr/local/lib/python3.10/dist-packages/sklearn/feature_extraction/text.py\u001b[0m in \u001b[0;36mfit_transform\u001b[0;34m(self, raw_documents, y)\u001b[0m\n\u001b[1;32m   1386\u001b[0m                     \u001b[0;32mbreak\u001b[0m\u001b[0;34m\u001b[0m\u001b[0;34m\u001b[0m\u001b[0m\n\u001b[1;32m   1387\u001b[0m \u001b[0;34m\u001b[0m\u001b[0m\n\u001b[0;32m-> 1388\u001b[0;31m         \u001b[0mvocabulary\u001b[0m\u001b[0;34m,\u001b[0m \u001b[0mX\u001b[0m \u001b[0;34m=\u001b[0m \u001b[0mself\u001b[0m\u001b[0;34m.\u001b[0m\u001b[0m_count_vocab\u001b[0m\u001b[0;34m(\u001b[0m\u001b[0mraw_documents\u001b[0m\u001b[0;34m,\u001b[0m \u001b[0mself\u001b[0m\u001b[0;34m.\u001b[0m\u001b[0mfixed_vocabulary_\u001b[0m\u001b[0;34m)\u001b[0m\u001b[0;34m\u001b[0m\u001b[0;34m\u001b[0m\u001b[0m\n\u001b[0m\u001b[1;32m   1389\u001b[0m \u001b[0;34m\u001b[0m\u001b[0m\n\u001b[1;32m   1390\u001b[0m         \u001b[0;32mif\u001b[0m \u001b[0mself\u001b[0m\u001b[0;34m.\u001b[0m\u001b[0mbinary\u001b[0m\u001b[0;34m:\u001b[0m\u001b[0;34m\u001b[0m\u001b[0;34m\u001b[0m\u001b[0m\n",
            "\u001b[0;32m/usr/local/lib/python3.10/dist-packages/sklearn/feature_extraction/text.py\u001b[0m in \u001b[0;36m_count_vocab\u001b[0;34m(self, raw_documents, fixed_vocab)\u001b[0m\n\u001b[1;32m   1292\u001b[0m             \u001b[0mvocabulary\u001b[0m \u001b[0;34m=\u001b[0m \u001b[0mdict\u001b[0m\u001b[0;34m(\u001b[0m\u001b[0mvocabulary\u001b[0m\u001b[0;34m)\u001b[0m\u001b[0;34m\u001b[0m\u001b[0;34m\u001b[0m\u001b[0m\n\u001b[1;32m   1293\u001b[0m             \u001b[0;32mif\u001b[0m \u001b[0;32mnot\u001b[0m \u001b[0mvocabulary\u001b[0m\u001b[0;34m:\u001b[0m\u001b[0;34m\u001b[0m\u001b[0;34m\u001b[0m\u001b[0m\n\u001b[0;32m-> 1294\u001b[0;31m                 raise ValueError(\n\u001b[0m\u001b[1;32m   1295\u001b[0m                     \u001b[0;34m\"empty vocabulary; perhaps the documents only contain stop words\"\u001b[0m\u001b[0;34m\u001b[0m\u001b[0;34m\u001b[0m\u001b[0m\n\u001b[1;32m   1296\u001b[0m                 )\n",
            "\u001b[0;31mValueError\u001b[0m: empty vocabulary; perhaps the documents only contain stop words"
          ]
        }
      ]
    },
    {
      "cell_type": "markdown",
      "source": [
        "**ERTNEWS**"
      ],
      "metadata": {
        "id": "ISgHyeVKLBit"
      }
    },
    {
      "cell_type": "code",
      "source": [
        "ertnews_gr_MAY23_df = pd.read_csv('/content/drive/MyDrive/DATA_JOUR/ertnews.gr-MAY23.csv')"
      ],
      "metadata": {
        "id": "CgpFV7-ZCg6X"
      },
      "execution_count": 15,
      "outputs": []
    },
    {
      "cell_type": "code",
      "source": [
        "ertnews_gr_MAY23_df"
      ],
      "metadata": {
        "colab": {
          "base_uri": "https://localhost:8080/",
          "height": 424
        },
        "id": "rhdQR8IEDmF_",
        "outputId": "47706fe9-d09e-4e6c-f2b5-95766bacf9f1"
      },
      "execution_count": 18,
      "outputs": [
        {
          "output_type": "execute_result",
          "data": {
            "text/plain": [
              "            site                                                url  \\\n",
              "0     ertnews.gr  https://www.ertnews.gr/eidiseis/o-santiago-pen...   \n",
              "1     ertnews.gr  https://www.ertnews.gr/roi-idiseon/synantisi-t...   \n",
              "2     ertnews.gr  https://www.ertnews.gr/eidiseis/diethni/rosia-...   \n",
              "3     ertnews.gr  https://www.ertnews.gr/eidiseis/katastrafike-k...   \n",
              "4     ertnews.gr  https://www.ertnews.gr/eidiseis/diethni/tourki...   \n",
              "...          ...                                                ...   \n",
              "4875  ertnews.gr  https://www.ertnews.gr/eidiseis/epistimi/ereyn...   \n",
              "4876  ertnews.gr  https://www.ertnews.gr/eidiseis/diethni/dania-...   \n",
              "4877  ertnews.gr  https://www.ertnews.gr/roi-idiseon/synantisi-p...   \n",
              "4878  ertnews.gr  https://www.ertnews.gr/eidiseis/ellada/politik...   \n",
              "4879  ertnews.gr  https://www.ertnews.gr/eidiseis/ellada/politik...   \n",
              "\n",
              "            date   section                                              title  \\\n",
              "0     2023-05-01   Αμερική     Ο Σαντιάγο Πένια, νέος πρόεδρος της Παραγουάης   \n",
              "1     2023-05-01    ΔΙΕΘΝΗ  Συνάντηση του αρχηγού του ουκρανικού στρατού μ...   \n",
              "2     2023-05-01    ΔΙΕΘΝΗ  Ρωσία: Απεβίωσε σε ηλικία 85 ετών ο διάσημος σ...   \n",
              "3     2023-05-01    ΕΛΛΑΔΑ  Καταστράφηκε καφετέρια στην Αρτέμιδα απο πυρκαγιά   \n",
              "4     2023-05-01    ΔΙΕΘΝΗ  Τουρκία: Ο «φερόμενος ηγέτης» του Ισλαμικού Κρ...   \n",
              "...          ...       ...                                                ...   \n",
              "4875  2023-05-31  ΕΠΙΣΤΗΜΗ  Έρευνα: Πώς επηρεάζει τον εγκέφαλο η καρδιακή ...   \n",
              "4876  2023-05-31    ΔΙΕΘΝΗ  Δανία: Η πρωθυπουργός εκφώνησε ομιλία από το C...   \n",
              "4877  2023-05-31  Πολιτική  Συνάντηση ΠτΔ Κ. Σακελλαροπούλου με τον Αρχιεπ...   \n",
              "4878  2023-05-31  Πολιτική  ΥΠΕΞ: Βαθιά θλίψη για την απώλεια του Θεόδωρου...   \n",
              "4879  2023-05-31  Πολιτική  Άγρια κόντρα Πλεύρη – Ηλιόπουλου στο Twitter γ...   \n",
              "\n",
              "                           author  \\\n",
              "0     Συντακτική ομάδα ertnews.gr   \n",
              "1     Συντακτική ομάδα ertnews.gr   \n",
              "2     Συντακτική Ομάδα ertnews.gr   \n",
              "3     Συντακτική ομάδα ertnews.gr   \n",
              "4     Συντακτική Ομάδα ertnews.gr   \n",
              "...                           ...   \n",
              "4875              Εύη Τσιριγωτάκη   \n",
              "4876  Συντακτική ομάδα ertnews.gr   \n",
              "4877  Συντακτική Ομάδα ertnews.gr   \n",
              "4878  Συντακτική ομάδα ertnews.gr   \n",
              "4879  Συντακτική Ομάδα ertnews.gr   \n",
              "\n",
              "                                                   text  \n",
              "0     Ο Σαντιάγο Πένια, ο υποψήφιος του κυβερνώντος ...  \n",
              "1     Εν μέσω προετοιμασιών για την πολυσυζητημένη ο...  \n",
              "2     Απεβίωσε σε ηλικία 85 ετών ο διάσημος Ρώσος σχ...  \n",
              "3     Ολοσχερώς καταστράφηκε καφετέρια στην Αρτέμιδα...  \n",
              "4     Ο «φερόμενος ηγέτης» της τζιχαντιστικής οργάνω...  \n",
              "...                                                 ...  \n",
              "4875  Η αποκατάσταση μετά από καρδιακή προσβολή επικ...  \n",
              "4876  Η πρωθυπουργός της Δανίας Μέτε Φρεντέρικσεν εκ...  \n",
              "4877  Η Πρόεδρος της Δημοκρατίας Κατερίνα Σακελλαροπ...  \n",
              "4878  Σε ανακοίνωση προέβη το Υπουργείο Εξωτερικών γ...  \n",
              "4879  Κόντρα ξέσπασε μεταξύ του πρωην Υπουργού Υγεία...  \n",
              "\n",
              "[4880 rows x 7 columns]"
            ],
            "text/html": [
              "\n",
              "  <div id=\"df-4f0457e3-e23b-46f0-920d-4f1122e39f02\">\n",
              "    <div class=\"colab-df-container\">\n",
              "      <div>\n",
              "<style scoped>\n",
              "    .dataframe tbody tr th:only-of-type {\n",
              "        vertical-align: middle;\n",
              "    }\n",
              "\n",
              "    .dataframe tbody tr th {\n",
              "        vertical-align: top;\n",
              "    }\n",
              "\n",
              "    .dataframe thead th {\n",
              "        text-align: right;\n",
              "    }\n",
              "</style>\n",
              "<table border=\"1\" class=\"dataframe\">\n",
              "  <thead>\n",
              "    <tr style=\"text-align: right;\">\n",
              "      <th></th>\n",
              "      <th>site</th>\n",
              "      <th>url</th>\n",
              "      <th>date</th>\n",
              "      <th>section</th>\n",
              "      <th>title</th>\n",
              "      <th>author</th>\n",
              "      <th>text</th>\n",
              "    </tr>\n",
              "  </thead>\n",
              "  <tbody>\n",
              "    <tr>\n",
              "      <th>0</th>\n",
              "      <td>ertnews.gr</td>\n",
              "      <td>https://www.ertnews.gr/eidiseis/o-santiago-pen...</td>\n",
              "      <td>2023-05-01</td>\n",
              "      <td>Αμερική</td>\n",
              "      <td>Ο Σαντιάγο Πένια, νέος πρόεδρος της Παραγουάης</td>\n",
              "      <td>Συντακτική ομάδα ertnews.gr</td>\n",
              "      <td>Ο Σαντιάγο Πένια, ο υποψήφιος του κυβερνώντος ...</td>\n",
              "    </tr>\n",
              "    <tr>\n",
              "      <th>1</th>\n",
              "      <td>ertnews.gr</td>\n",
              "      <td>https://www.ertnews.gr/roi-idiseon/synantisi-t...</td>\n",
              "      <td>2023-05-01</td>\n",
              "      <td>ΔΙΕΘΝΗ</td>\n",
              "      <td>Συνάντηση του αρχηγού του ουκρανικού στρατού μ...</td>\n",
              "      <td>Συντακτική ομάδα ertnews.gr</td>\n",
              "      <td>Εν μέσω προετοιμασιών για την πολυσυζητημένη ο...</td>\n",
              "    </tr>\n",
              "    <tr>\n",
              "      <th>2</th>\n",
              "      <td>ertnews.gr</td>\n",
              "      <td>https://www.ertnews.gr/eidiseis/diethni/rosia-...</td>\n",
              "      <td>2023-05-01</td>\n",
              "      <td>ΔΙΕΘΝΗ</td>\n",
              "      <td>Ρωσία: Απεβίωσε σε ηλικία 85 ετών ο διάσημος σ...</td>\n",
              "      <td>Συντακτική Ομάδα ertnews.gr</td>\n",
              "      <td>Απεβίωσε σε ηλικία 85 ετών ο διάσημος Ρώσος σχ...</td>\n",
              "    </tr>\n",
              "    <tr>\n",
              "      <th>3</th>\n",
              "      <td>ertnews.gr</td>\n",
              "      <td>https://www.ertnews.gr/eidiseis/katastrafike-k...</td>\n",
              "      <td>2023-05-01</td>\n",
              "      <td>ΕΛΛΑΔΑ</td>\n",
              "      <td>Καταστράφηκε καφετέρια στην Αρτέμιδα απο πυρκαγιά</td>\n",
              "      <td>Συντακτική ομάδα ertnews.gr</td>\n",
              "      <td>Ολοσχερώς καταστράφηκε καφετέρια στην Αρτέμιδα...</td>\n",
              "    </tr>\n",
              "    <tr>\n",
              "      <th>4</th>\n",
              "      <td>ertnews.gr</td>\n",
              "      <td>https://www.ertnews.gr/eidiseis/diethni/tourki...</td>\n",
              "      <td>2023-05-01</td>\n",
              "      <td>ΔΙΕΘΝΗ</td>\n",
              "      <td>Τουρκία: Ο «φερόμενος ηγέτης» του Ισλαμικού Κρ...</td>\n",
              "      <td>Συντακτική Ομάδα ertnews.gr</td>\n",
              "      <td>Ο «φερόμενος ηγέτης» της τζιχαντιστικής οργάνω...</td>\n",
              "    </tr>\n",
              "    <tr>\n",
              "      <th>...</th>\n",
              "      <td>...</td>\n",
              "      <td>...</td>\n",
              "      <td>...</td>\n",
              "      <td>...</td>\n",
              "      <td>...</td>\n",
              "      <td>...</td>\n",
              "      <td>...</td>\n",
              "    </tr>\n",
              "    <tr>\n",
              "      <th>4875</th>\n",
              "      <td>ertnews.gr</td>\n",
              "      <td>https://www.ertnews.gr/eidiseis/epistimi/ereyn...</td>\n",
              "      <td>2023-05-31</td>\n",
              "      <td>ΕΠΙΣΤΗΜΗ</td>\n",
              "      <td>Έρευνα: Πώς επηρεάζει τον εγκέφαλο η καρδιακή ...</td>\n",
              "      <td>Εύη Τσιριγωτάκη</td>\n",
              "      <td>Η αποκατάσταση μετά από καρδιακή προσβολή επικ...</td>\n",
              "    </tr>\n",
              "    <tr>\n",
              "      <th>4876</th>\n",
              "      <td>ertnews.gr</td>\n",
              "      <td>https://www.ertnews.gr/eidiseis/diethni/dania-...</td>\n",
              "      <td>2023-05-31</td>\n",
              "      <td>ΔΙΕΘΝΗ</td>\n",
              "      <td>Δανία: Η πρωθυπουργός εκφώνησε ομιλία από το C...</td>\n",
              "      <td>Συντακτική ομάδα ertnews.gr</td>\n",
              "      <td>Η πρωθυπουργός της Δανίας Μέτε Φρεντέρικσεν εκ...</td>\n",
              "    </tr>\n",
              "    <tr>\n",
              "      <th>4877</th>\n",
              "      <td>ertnews.gr</td>\n",
              "      <td>https://www.ertnews.gr/roi-idiseon/synantisi-p...</td>\n",
              "      <td>2023-05-31</td>\n",
              "      <td>Πολιτική</td>\n",
              "      <td>Συνάντηση ΠτΔ Κ. Σακελλαροπούλου με τον Αρχιεπ...</td>\n",
              "      <td>Συντακτική Ομάδα ertnews.gr</td>\n",
              "      <td>Η Πρόεδρος της Δημοκρατίας Κατερίνα Σακελλαροπ...</td>\n",
              "    </tr>\n",
              "    <tr>\n",
              "      <th>4878</th>\n",
              "      <td>ertnews.gr</td>\n",
              "      <td>https://www.ertnews.gr/eidiseis/ellada/politik...</td>\n",
              "      <td>2023-05-31</td>\n",
              "      <td>Πολιτική</td>\n",
              "      <td>ΥΠΕΞ: Βαθιά θλίψη για την απώλεια του Θεόδωρου...</td>\n",
              "      <td>Συντακτική ομάδα ertnews.gr</td>\n",
              "      <td>Σε ανακοίνωση προέβη το Υπουργείο Εξωτερικών γ...</td>\n",
              "    </tr>\n",
              "    <tr>\n",
              "      <th>4879</th>\n",
              "      <td>ertnews.gr</td>\n",
              "      <td>https://www.ertnews.gr/eidiseis/ellada/politik...</td>\n",
              "      <td>2023-05-31</td>\n",
              "      <td>Πολιτική</td>\n",
              "      <td>Άγρια κόντρα Πλεύρη – Ηλιόπουλου στο Twitter γ...</td>\n",
              "      <td>Συντακτική Ομάδα ertnews.gr</td>\n",
              "      <td>Κόντρα ξέσπασε μεταξύ του πρωην Υπουργού Υγεία...</td>\n",
              "    </tr>\n",
              "  </tbody>\n",
              "</table>\n",
              "<p>4880 rows × 7 columns</p>\n",
              "</div>\n",
              "      <button class=\"colab-df-convert\" onclick=\"convertToInteractive('df-4f0457e3-e23b-46f0-920d-4f1122e39f02')\"\n",
              "              title=\"Convert this dataframe to an interactive table.\"\n",
              "              style=\"display:none;\">\n",
              "        \n",
              "  <svg xmlns=\"http://www.w3.org/2000/svg\" height=\"24px\"viewBox=\"0 0 24 24\"\n",
              "       width=\"24px\">\n",
              "    <path d=\"M0 0h24v24H0V0z\" fill=\"none\"/>\n",
              "    <path d=\"M18.56 5.44l.94 2.06.94-2.06 2.06-.94-2.06-.94-.94-2.06-.94 2.06-2.06.94zm-11 1L8.5 8.5l.94-2.06 2.06-.94-2.06-.94L8.5 2.5l-.94 2.06-2.06.94zm10 10l.94 2.06.94-2.06 2.06-.94-2.06-.94-.94-2.06-.94 2.06-2.06.94z\"/><path d=\"M17.41 7.96l-1.37-1.37c-.4-.4-.92-.59-1.43-.59-.52 0-1.04.2-1.43.59L10.3 9.45l-7.72 7.72c-.78.78-.78 2.05 0 2.83L4 21.41c.39.39.9.59 1.41.59.51 0 1.02-.2 1.41-.59l7.78-7.78 2.81-2.81c.8-.78.8-2.07 0-2.86zM5.41 20L4 18.59l7.72-7.72 1.47 1.35L5.41 20z\"/>\n",
              "  </svg>\n",
              "      </button>\n",
              "      \n",
              "  <style>\n",
              "    .colab-df-container {\n",
              "      display:flex;\n",
              "      flex-wrap:wrap;\n",
              "      gap: 12px;\n",
              "    }\n",
              "\n",
              "    .colab-df-convert {\n",
              "      background-color: #E8F0FE;\n",
              "      border: none;\n",
              "      border-radius: 50%;\n",
              "      cursor: pointer;\n",
              "      display: none;\n",
              "      fill: #1967D2;\n",
              "      height: 32px;\n",
              "      padding: 0 0 0 0;\n",
              "      width: 32px;\n",
              "    }\n",
              "\n",
              "    .colab-df-convert:hover {\n",
              "      background-color: #E2EBFA;\n",
              "      box-shadow: 0px 1px 2px rgba(60, 64, 67, 0.3), 0px 1px 3px 1px rgba(60, 64, 67, 0.15);\n",
              "      fill: #174EA6;\n",
              "    }\n",
              "\n",
              "    [theme=dark] .colab-df-convert {\n",
              "      background-color: #3B4455;\n",
              "      fill: #D2E3FC;\n",
              "    }\n",
              "\n",
              "    [theme=dark] .colab-df-convert:hover {\n",
              "      background-color: #434B5C;\n",
              "      box-shadow: 0px 1px 3px 1px rgba(0, 0, 0, 0.15);\n",
              "      filter: drop-shadow(0px 1px 2px rgba(0, 0, 0, 0.3));\n",
              "      fill: #FFFFFF;\n",
              "    }\n",
              "  </style>\n",
              "\n",
              "      <script>\n",
              "        const buttonEl =\n",
              "          document.querySelector('#df-4f0457e3-e23b-46f0-920d-4f1122e39f02 button.colab-df-convert');\n",
              "        buttonEl.style.display =\n",
              "          google.colab.kernel.accessAllowed ? 'block' : 'none';\n",
              "\n",
              "        async function convertToInteractive(key) {\n",
              "          const element = document.querySelector('#df-4f0457e3-e23b-46f0-920d-4f1122e39f02');\n",
              "          const dataTable =\n",
              "            await google.colab.kernel.invokeFunction('convertToInteractive',\n",
              "                                                     [key], {});\n",
              "          if (!dataTable) return;\n",
              "\n",
              "          const docLinkHtml = 'Like what you see? Visit the ' +\n",
              "            '<a target=\"_blank\" href=https://colab.research.google.com/notebooks/data_table.ipynb>data table notebook</a>'\n",
              "            + ' to learn more about interactive tables.';\n",
              "          element.innerHTML = '';\n",
              "          dataTable['output_type'] = 'display_data';\n",
              "          await google.colab.output.renderOutput(dataTable, element);\n",
              "          const docLink = document.createElement('div');\n",
              "          docLink.innerHTML = docLinkHtml;\n",
              "          element.appendChild(docLink);\n",
              "        }\n",
              "      </script>\n",
              "    </div>\n",
              "  </div>\n",
              "  "
            ]
          },
          "metadata": {},
          "execution_count": 18
        }
      ]
    },
    {
      "cell_type": "code",
      "source": [
        "count_vector_ertnews = cv.fit_transform(ertnews_gr_MAY23_df['text'])"
      ],
      "metadata": {
        "colab": {
          "base_uri": "https://localhost:8080/",
          "height": 312
        },
        "id": "nQpsEBlMIWZH",
        "outputId": "ba27f669-f72c-4924-a4d2-2d2e6a37913c"
      },
      "execution_count": 17,
      "outputs": [
        {
          "output_type": "error",
          "ename": "ValueError",
          "evalue": "ignored",
          "traceback": [
            "\u001b[0;31m---------------------------------------------------------------------------\u001b[0m",
            "\u001b[0;31mValueError\u001b[0m                                Traceback (most recent call last)",
            "\u001b[0;32m<ipython-input-17-a5e6088ba5a7>\u001b[0m in \u001b[0;36m<cell line: 1>\u001b[0;34m()\u001b[0m\n\u001b[0;32m----> 1\u001b[0;31m \u001b[0mcount_vector_ertnews\u001b[0m \u001b[0;34m=\u001b[0m \u001b[0mcv\u001b[0m\u001b[0;34m.\u001b[0m\u001b[0mfit_transform\u001b[0m\u001b[0;34m(\u001b[0m\u001b[0mertnews_gr_MAY23_df\u001b[0m\u001b[0;34m[\u001b[0m\u001b[0;34m'text'\u001b[0m\u001b[0;34m]\u001b[0m\u001b[0;34m)\u001b[0m\u001b[0;34m\u001b[0m\u001b[0;34m\u001b[0m\u001b[0m\n\u001b[0m",
            "\u001b[0;32m/usr/local/lib/python3.10/dist-packages/sklearn/feature_extraction/text.py\u001b[0m in \u001b[0;36mfit_transform\u001b[0;34m(self, raw_documents, y)\u001b[0m\n\u001b[1;32m   1386\u001b[0m                     \u001b[0;32mbreak\u001b[0m\u001b[0;34m\u001b[0m\u001b[0;34m\u001b[0m\u001b[0m\n\u001b[1;32m   1387\u001b[0m \u001b[0;34m\u001b[0m\u001b[0m\n\u001b[0;32m-> 1388\u001b[0;31m         \u001b[0mvocabulary\u001b[0m\u001b[0;34m,\u001b[0m \u001b[0mX\u001b[0m \u001b[0;34m=\u001b[0m \u001b[0mself\u001b[0m\u001b[0;34m.\u001b[0m\u001b[0m_count_vocab\u001b[0m\u001b[0;34m(\u001b[0m\u001b[0mraw_documents\u001b[0m\u001b[0;34m,\u001b[0m \u001b[0mself\u001b[0m\u001b[0;34m.\u001b[0m\u001b[0mfixed_vocabulary_\u001b[0m\u001b[0;34m)\u001b[0m\u001b[0;34m\u001b[0m\u001b[0;34m\u001b[0m\u001b[0m\n\u001b[0m\u001b[1;32m   1389\u001b[0m \u001b[0;34m\u001b[0m\u001b[0m\n\u001b[1;32m   1390\u001b[0m         \u001b[0;32mif\u001b[0m \u001b[0mself\u001b[0m\u001b[0;34m.\u001b[0m\u001b[0mbinary\u001b[0m\u001b[0;34m:\u001b[0m\u001b[0;34m\u001b[0m\u001b[0;34m\u001b[0m\u001b[0m\n",
            "\u001b[0;32m/usr/local/lib/python3.10/dist-packages/sklearn/feature_extraction/text.py\u001b[0m in \u001b[0;36m_count_vocab\u001b[0;34m(self, raw_documents, fixed_vocab)\u001b[0m\n\u001b[1;32m   1292\u001b[0m             \u001b[0mvocabulary\u001b[0m \u001b[0;34m=\u001b[0m \u001b[0mdict\u001b[0m\u001b[0;34m(\u001b[0m\u001b[0mvocabulary\u001b[0m\u001b[0;34m)\u001b[0m\u001b[0;34m\u001b[0m\u001b[0;34m\u001b[0m\u001b[0m\n\u001b[1;32m   1293\u001b[0m             \u001b[0;32mif\u001b[0m \u001b[0;32mnot\u001b[0m \u001b[0mvocabulary\u001b[0m\u001b[0;34m:\u001b[0m\u001b[0;34m\u001b[0m\u001b[0;34m\u001b[0m\u001b[0m\n\u001b[0;32m-> 1294\u001b[0;31m                 raise ValueError(\n\u001b[0m\u001b[1;32m   1295\u001b[0m                     \u001b[0;34m\"empty vocabulary; perhaps the documents only contain stop words\"\u001b[0m\u001b[0;34m\u001b[0m\u001b[0;34m\u001b[0m\u001b[0m\n\u001b[1;32m   1296\u001b[0m                 )\n",
            "\u001b[0;31mValueError\u001b[0m: empty vocabulary; perhaps the documents only contain stop words"
          ]
        }
      ]
    },
    {
      "cell_type": "code",
      "source": [
        "count_vector_ertnews.shape"
      ],
      "metadata": {
        "colab": {
          "base_uri": "https://localhost:8080/",
          "height": 166
        },
        "id": "1Fa7gvY4IqO8",
        "outputId": "5c7eea1b-845d-4f53-dedd-fd8b3eab6fb1"
      },
      "execution_count": 19,
      "outputs": [
        {
          "output_type": "error",
          "ename": "NameError",
          "evalue": "ignored",
          "traceback": [
            "\u001b[0;31m---------------------------------------------------------------------------\u001b[0m",
            "\u001b[0;31mNameError\u001b[0m                                 Traceback (most recent call last)",
            "\u001b[0;32m<ipython-input-19-4ad8ddad5616>\u001b[0m in \u001b[0;36m<cell line: 1>\u001b[0;34m()\u001b[0m\n\u001b[0;32m----> 1\u001b[0;31m \u001b[0mcount_vector_ertnews\u001b[0m\u001b[0;34m.\u001b[0m\u001b[0mshape\u001b[0m\u001b[0;34m\u001b[0m\u001b[0;34m\u001b[0m\u001b[0m\n\u001b[0m",
            "\u001b[0;31mNameError\u001b[0m: name 'count_vector_ertnews' is not defined"
          ]
        }
      ]
    },
    {
      "cell_type": "code",
      "source": [
        "cv = CountVectorizer(stop_words= list(nlp.Defaults.stop_words))"
      ],
      "metadata": {
        "id": "UZIO8McoIwx-"
      },
      "execution_count": 23,
      "outputs": []
    },
    {
      "cell_type": "code",
      "source": [
        "count_vector_ertnews = cv.fit_transform(ertnews_gr_MAY23_df['text'])"
      ],
      "metadata": {
        "id": "-0DDLxc-I0Ck"
      },
      "execution_count": 25,
      "outputs": []
    },
    {
      "cell_type": "code",
      "source": [
        "results_ertnews = pd.DataFrame(count_vector_ertnews.toarray(), columns=cv.get_feature_names_out()) \n",
        "\n",
        "results_ertnews.head()"
      ],
      "metadata": {
        "id": "HPooHYvnJLeX"
      },
      "execution_count": null,
      "outputs": []
    },
    {
      "cell_type": "code",
      "source": [
        "cv = CountVectorizer(stop_words= list(nlp.Defaults.stop_words), min_df=0.01, max_df=0.95)\n",
        "count_vector_ertnews = cv.fit_transform(ertnews_gr_MAY23_df['text'])\n",
        "results_ertnews = pd.DataFrame(count_vector_ertnews.toarray(), columns=cv.get_feature_names_out()) \n",
        "results_ertnews.head()"
      ],
      "metadata": {
        "id": "xBVP41spKSFw"
      },
      "execution_count": 30,
      "outputs": []
    },
    {
      "cell_type": "code",
      "source": [
        "cv = CountVectorizer(stop_words= list(nlp.Defaults.stop_words), max_features=60)\n",
        "count_vector_ertnews = cv.fit_transform(ertnews_gr_MAY23_df['text'])\n",
        "results_ertnews = pd.DataFrame(count_vector_ertnews.toarray(), columns=cv.get_feature_names_out()) \n",
        "results_ertnews.head()"
      ],
      "metadata": {
        "id": "zM7LdNNPMbte"
      },
      "execution_count": null,
      "outputs": []
    }
  ]
}