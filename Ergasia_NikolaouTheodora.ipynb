{
  "nbformat": 4,
  "nbformat_minor": 0,
  "metadata": {
    "colab": {
      "provenance": [],
      "authorship_tag": "ABX9TyPdfqmUZCfy2pFeXyOKz2b6",
      "include_colab_link": true
    },
    "kernelspec": {
      "name": "python3",
      "display_name": "Python 3"
    },
    "language_info": {
      "name": "python"
    }
  },
  "cells": [
    {
      "cell_type": "markdown",
      "metadata": {
        "id": "view-in-github",
        "colab_type": "text"
      },
      "source": [
        "<a href=\"https://colab.research.google.com/github/ThaniNikolaou/DataJour/blob/main/Ergasia_NikolaouTheodora.ipynb\" target=\"_parent\"><img src=\"https://colab.research.google.com/assets/colab-badge.svg\" alt=\"Open In Colab\"/></a>"
      ]
    },
    {
      "cell_type": "markdown",
      "source": [
        "Ασκηση 1\n",
        "\n",
        "Try yourself: Φτιάξτε ένα νέο κελί κώδικα (Code cell) ακριβώς κάτω από αυτό και:\n",
        "διορθώστε την παραπάνω μεταβλητή έτσι ώστε να τρέχει ο κώδικας (να μην πετάει error)\n",
        "στη συνέχεια τυπώστε σε νέο cell την τιμή της μεταβλητής στην οθόνη"
      ],
      "metadata": {
        "id": "ks57hgMKO1gn"
      }
    },
    {
      "cell_type": "code",
      "source": [
        "fiveyears = 2018\n",
        "fiveyearsago = \"H xronia toy skylou\"\n",
        "five_years = False"
      ],
      "metadata": {
        "id": "f0EsNRrgPAwe"
      },
      "execution_count": null,
      "outputs": []
    },
    {
      "cell_type": "markdown",
      "source": [
        "Άσκηση 2\n",
        "\n",
        "Try yourself: Φτιάξτε ένα νέο κελί κώδικα (Code cell) ακριβώς κάτω από αυτό και δημιουργήστε μεταβλητές με τα στοιχεία σας:\n",
        "το μικρό σας όνομα\n",
        "το επίθετό σας\n",
        "το email σας\n",
        "το εξάμηνό σας\n",
        "τυπώστε όλα μαζί τα παραπάνω στην οθόνη"
      ],
      "metadata": {
        "id": "7g6o_4e0PEdz"
      }
    },
    {
      "cell_type": "code",
      "source": [
        "name = \"Theodora\"\n",
        "surname = \"Nikolaou\"\n",
        "email = \"nik.theodora@gmail.com\"\n",
        "examhno = \"Z\"\n",
        "print (\"Onomatepwnhmeno :\", name, surname, \"Email :\", email, \"Examhno :\", examhno)"
      ],
      "metadata": {
        "colab": {
          "base_uri": "https://localhost:8080/"
        },
        "id": "C_0Gv0EpPI1d",
        "outputId": "33d35d51-2b0c-418f-a364-3b2288f1a8af"
      },
      "execution_count": null,
      "outputs": [
        {
          "output_type": "stream",
          "name": "stdout",
          "text": [
            "Onomatepwnhmeno : Theodora Nikolaou Email : nik.theodora@gmail.com Examhno : Z\n"
          ]
        }
      ]
    },
    {
      "cell_type": "markdown",
      "source": [
        "Άσκηση 3\n",
        "\n",
        "Try yourself: Φτιάξτε ένα νέο κελί κώδικα (Code cell) ακριβώς κάτω από αυτό και κάνετε τα παρακάτω:\n",
        "δημιουργήστε 3 μεταβλητές, όπου η καθεμιά θα έχει τη θερμοκρασία του αέρα όπως την καταγράψαμε το πρωί, το μεσημέρι και το βράδυ\n",
        "βρείτε το μέσο όρο των θερμοκρασιών\n",
        "βρείτε τη μέγιστη διαφορά των θερμοκρασιών\n",
        "δημιουργήστε μια νέα μεταβλητή που θα περιέχει την τιμή της μέσης θερμοκρασίας σε ακέραιο\n",
        "ελέγξτε τα αποτελέσματα τυπώνοντάς τα στην οθόνη"
      ],
      "metadata": {
        "id": "FyxGlMY1PPmZ"
      }
    },
    {
      "cell_type": "code",
      "source": [
        "prwi = 7\n",
        "vrady = 15\n",
        "MegistiDiafora = vrady - prwi\n",
        "print (\"H megisti diafora einai :\", MegistiDiafora)\n",
        "M_O = (prwi+vrady)//2\n",
        "print (\"O M.O. einai: \", M_O)\n",
        "MeshTherm = int(M_O)\n",
        "print (\"H mesh thermokrasia einai :\", MeshTherm)"
      ],
      "metadata": {
        "colab": {
          "base_uri": "https://localhost:8080/"
        },
        "id": "Vby0qsBiPXPf",
        "outputId": "f3e6e168-8026-4f0e-f5a3-b5976caca096"
      },
      "execution_count": null,
      "outputs": [
        {
          "output_type": "stream",
          "name": "stdout",
          "text": [
            "H megisti diafora einai : 8\n",
            "O M.O. einai:  11\n",
            "H mesh thermokrasia einai : 11\n"
          ]
        }
      ]
    },
    {
      "cell_type": "markdown",
      "source": [
        "Άσκηση 4\n",
        "\n",
        "Try yourself: Φτιάξτε ένα νέο κελί κώδικα (Code cell) ακριβώς κάτω από αυτό και κάνετε τα παρακάτω:\n",
        "δημιουργήστε μια μεταβλητή με την πόλη που μένετε και μία με το αγαπημένο σας ταξιδιωτικό προορισμό\n",
        "ελέγξτε την ομοιότητα του τύπου των μεταβλητών\n",
        "ελέγξτε την ισότητα των μεταβλητών\n",
        "ελέγξτε αν η μεταβλητή της πόλης είναι μικρότερη της μεταβλητής του ταξιδιωτικού προορισμού\n",
        "Τι νομίζετε ότι σημαίνει ότι ένα string είναι μεγαλύτερο, μικρότερο ή ίσο με ένα άλλο;\n"
      ],
      "metadata": {
        "id": "zmMPsP0-Pauw"
      }
    },
    {
      "cell_type": "code",
      "source": [
        "MyCity = \"NeaSmyrni\"\n",
        "VocCity = \"Stockholm\"\n",
        "print (\"MyCity : \", MyCity)\n",
        "print (\"VocCity\", VocCity)\n",
        "print (\"MyCity is equal to VocCity :\", MyCity==VocCity)\n",
        "print (\"MyCity is not equal to VocCity :\", MyCity!=VocCity)\n",
        "print (len(MyCity))\n",
        "print (len(VocCity))\n",
        "print (\"Oi metavlhtes einai ises :\", len(MyCity)==len(VocCity))\n"
      ],
      "metadata": {
        "colab": {
          "base_uri": "https://localhost:8080/"
        },
        "id": "i7fJpMlrSHEV",
        "outputId": "ab69f2b1-8fed-4871-d1b9-087243021593"
      },
      "execution_count": null,
      "outputs": [
        {
          "output_type": "stream",
          "name": "stdout",
          "text": [
            "MyCity :  NeaSmyrni\n",
            "VocCity Stockholm\n",
            "MyCity is equal to VocCity : False\n",
            "MyCity is not equal to VocCity : True\n",
            "9\n",
            "9\n",
            "Oi metavlhtes einai ises : True\n"
          ]
        }
      ]
    },
    {
      "cell_type": "markdown",
      "source": [
        "Άσκηση 5\n",
        "\n",
        "Try yourself: Φτιάξτε ένα νέο κελί κώδικα (Code cell) ακριβώς κάτω από αυτό και κάνετε τα παρακάτω:\n",
        "δημιουργήστε μια μεταβλητή με τιμή την datetime ημερομηνία δημοσίευσης ενός άρθρου: 2023-03-24T12:07:19+02:00\n",
        "απομονώστε την ημερομηνία και αποθηκεύστε τη σε μια μεταβλητή με κατάλληλο όνομα\n",
        "αποθηκεύστε σε διαφορετικές μεταβλητές το έτος, το μήνα και την ημέρα\n",
        "απομονώστε την ώρα (ώρα, λεπτά και δευτερόλεπτα) και αποθηκεύστε τη σε μια νέα μεταβλητή\n",
        "χρησιμοποιώντας τις μεταβλητές που φτιάξατε, δημιουργήστε μια νέα μεταβλητή string που θα περιέχει: <ημέρα>/<μήνας>/<έτος>, ώρα: <ώρα>\n",
        "και τυπώστε τη στην οθόνη"
      ],
      "metadata": {
        "id": "RzH8rciJPiRC"
      }
    },
    {
      "cell_type": "code",
      "source": [
        "date = \"29-3-2023\"\n",
        "time = \"8pm\"\n",
        "datetime = date, time\n",
        "print (datetime)\n",
        "day = 29\n",
        "month = 3\n",
        "year = 2023"
      ],
      "metadata": {
        "colab": {
          "base_uri": "https://localhost:8080/"
        },
        "id": "HgGHBr2wUo6A",
        "outputId": "d9577aee-89dc-42f7-de3d-90ff862f53bc"
      },
      "execution_count": null,
      "outputs": [
        {
          "output_type": "stream",
          "name": "stdout",
          "text": [
            "('29-3-2023', '8pm')\n"
          ]
        }
      ]
    },
    {
      "cell_type": "markdown",
      "source": [
        "Άσκηση 6\n",
        "Try yourself: Φτιάξτε ένα νέο κελί κώδικα (Code cell) ακριβώς κάτω από αυτό και κάνετε τα παρακάτω:\n",
        "Δημιουργήστε μια κενή λίστα\n",
        "Φτιάξτε μια μεταβλητή με ένα email\n",
        "Βρείτε το index του \"@\"\n",
        "Πάρτε (slice) το τμήμα του mail που έχει μόνο το όνομα και βάλτε το στη λίστα\n",
        "Επαναλάβετε τα βήματα 2-4 άλλες 2 φορές\n",
        "Ταξινομήστε τα περιεχόμενα της λίστας με αύξουσα σειρά και\n",
        "Τυπώστε τα περιεχόμενά της στην οθόνη\n"
      ],
      "metadata": {
        "id": "OYT4SdT5Pon2"
      }
    },
    {
      "cell_type": "code",
      "source": [
        "L = [ ]\n",
        "email = \"nik.theodora@gmail.com\"\n",
        "email.index(\"@\")\n",
        "email.index(\"t\")\n",
        "email[4:12]\n",
        "email2 = \"theodora.apostolianik@gmail.com\"\n",
        "email2.index(\"@\")\n",
        "email2.index(\"t\")\n",
        "email2.index(\"n\")\n",
        "email2 [0:18]\n",
        "email3 = \"theodora2002@gmail.com\"\n",
        "email3.index(\"@\")\n",
        "email3.index (\"t\")\n",
        "email3.index(\"a\")\n",
        "email3[0:8]\n",
        "names = [email[4:12], email2 [0:18], email3[0:8]]\n",
        "print (len (email))\n",
        "print (len (email2))\n",
        "print (len (email3))\n",
        "names.sort()\n",
        "print (names)"
      ],
      "metadata": {
        "colab": {
          "base_uri": "https://localhost:8080/"
        },
        "id": "oaPrfIRmCN-n",
        "outputId": "4ba8577e-31a2-49c0-c0dd-9fbc889ed10b"
      },
      "execution_count": null,
      "outputs": [
        {
          "output_type": "stream",
          "name": "stdout",
          "text": [
            "22\n",
            "31\n",
            "22\n",
            "['theodora', 'theodora', 'theodora.apostolia']\n"
          ]
        }
      ]
    },
    {
      "cell_type": "markdown",
      "source": [
        "Άσκηση 7\n",
        "\n",
        "Try yourself: Φτιάξτε ένα νέο κελί κώδικα (Code cell) ακριβώς κάτω από αυτό και κάνετε τα παρακάτω:\n",
        "Δημιουργήστε μια κενή λίστα\n",
        "Δημιουργήστε ένα λεξικό με τα στοιχεία ενός άρθρου από ένα site: \"Τίτλος\", \"Ημερομηνία\", \"Κατηγορία\", \"url\"\n",
        "Επαναλάβετε το 2 για ακόμα ένα άρθρο\n",
        "Προσθέστε τα λεξικά στη λίστα.\n",
        "Τυπώστε στην οθόνη τον τίτλο του 2ου άρθρου\n",
        "Προσθέστε και στα 2 άρθρα μια εγγραφή με το όνομα του αντίστοιχου site που πήρατε το άρθρο\n",
        "Τυπώστε στην οθόνη το πλήθος των λεξικών που έχει η λίστα."
      ],
      "metadata": {
        "id": "PLIybN4gInzy"
      }
    },
    {
      "cell_type": "code",
      "source": [
        "article1 = {\"Title\" : \"ChatGPT: Το μήλο, η βαρύτητα και ο Νόμος δράση-αντίδραση\",\n",
        "            \"Date\" : \"2.4.2023\",\n",
        "            \"Category\" : \"Technology\",\n",
        "            \" url\" : \"https://www.protothema.gr/technology/article/1356343/chatgpt-to-milo-i-varutita-kai-o-nomos-drasi-adidrasi/\",\n",
        "            }\n",
        "article2 = {\"Title\" : \"Κρίσιμη ψηφοφορία σήμερα στο ευρωκοινοβούλιο για άρθρα του Συμφώνου Ασύλου και Μετανάσ\",\n",
        "            \"Date\" : \"28.3.2023\",\n",
        "            \"Category\" : \"europe\",\n",
        "            \" url\" : \"https://www.efsyn.gr/kosmos/eyropi/383629_krisimi-psifoforia-simera-sto-eyrokoinoboylio-gia-arthra-toy-symfonoy-asyloy\",\n",
        "            }\n",
        "articles = [article1, article2]\n",
        "print (articles)\n",
        "article2 [\"Title\"]\n",
        "article1 [\"Site\"] = \"ProtoThema\"\n",
        "print (article1)\n",
        "article2 [\"Site\"] = \"Efsyn\"\n",
        "print (article2)\n",
        "articles = [article1, article2]\n",
        "print (len(articles))"
      ],
      "metadata": {
        "colab": {
          "base_uri": "https://localhost:8080/"
        },
        "id": "3ZQoL70aIvMo",
        "outputId": "95c3e02b-77f8-41b0-8b62-fec009f00d7a"
      },
      "execution_count": null,
      "outputs": [
        {
          "output_type": "stream",
          "name": "stdout",
          "text": [
            "[{'Title': 'ChatGPT: Το μήλο, η βαρύτητα και ο Νόμος δράση-αντίδραση', 'Date': '2.4.2023', 'Category': 'Technology', ' url': 'https://www.protothema.gr/technology/article/1356343/chatgpt-to-milo-i-varutita-kai-o-nomos-drasi-adidrasi/'}, {'Title': 'Κρίσιμη ψηφοφορία σήμερα στο ευρωκοινοβούλιο για άρθρα του Συμφώνου Ασύλου και Μετανάσ', 'Date': '28.3.2023', 'Category': 'europe', ' url': 'https://www.efsyn.gr/kosmos/eyropi/383629_krisimi-psifoforia-simera-sto-eyrokoinoboylio-gia-arthra-toy-symfonoy-asyloy'}]\n",
            "{'Title': 'ChatGPT: Το μήλο, η βαρύτητα και ο Νόμος δράση-αντίδραση', 'Date': '2.4.2023', 'Category': 'Technology', ' url': 'https://www.protothema.gr/technology/article/1356343/chatgpt-to-milo-i-varutita-kai-o-nomos-drasi-adidrasi/', 'Site': 'ProtoThema'}\n",
            "{'Title': 'Κρίσιμη ψηφοφορία σήμερα στο ευρωκοινοβούλιο για άρθρα του Συμφώνου Ασύλου και Μετανάσ', 'Date': '28.3.2023', 'Category': 'europe', ' url': 'https://www.efsyn.gr/kosmos/eyropi/383629_krisimi-psifoforia-simera-sto-eyrokoinoboylio-gia-arthra-toy-symfonoy-asyloy', 'Site': 'Efsyn'}\n",
            "2\n"
          ]
        }
      ]
    },
    {
      "cell_type": "markdown",
      "source": [
        "Άσκηση 1\n",
        "\n",
        "Try yourself: Φτιάξτε ένα νέο κελί κώδικα ακριβώς από κάτω και:\n",
        "Φτιάξτε μια λίστα με ονόματα 3 αγαπημένων σας ηθοποιών\n",
        "Φτιάξτε άλλη μια λίστα με το βαθμό (από το 1 έως το 10) που θα τους βάζατε\n",
        "Φτιάξτε μια λούπα που να τρέχει στη λίστα των ηθποιών και να τυπώνει το όνομα του/της ηθοποιού με το βαθμό του"
      ],
      "metadata": {
        "id": "sPphqD4DP2d4"
      }
    },
    {
      "cell_type": "code",
      "source": [
        "actors = [\"NoahCentineo\", \"JennaOrtega\", \"SabrinaCaprenter\"]\n",
        "rate = [6, 8, 10]\n",
        "for i in range(0,len(actors)):\n",
        "    print (\"Ο ηθοποιός : \", actors[i], \"παίρνει : \", rate[i])"
      ],
      "metadata": {
        "colab": {
          "base_uri": "https://localhost:8080/"
        },
        "id": "e5V6XoJyOBl3",
        "outputId": "ed48d939-6d77-4e95-ec44-88a76f2e40c1"
      },
      "execution_count": null,
      "outputs": [
        {
          "output_type": "stream",
          "name": "stdout",
          "text": [
            "Ο ηθοποιός :  NoahCentineo παίρνει :  6\n",
            "Ο ηθοποιός :  JennaOrtega παίρνει :  8\n",
            "Ο ηθοποιός :  SabrinaCaprenter παίρνει :  10\n"
          ]
        }
      ]
    },
    {
      "cell_type": "markdown",
      "source": [
        "Άσκηση 2\n",
        "\n",
        "Try yourself: Στο παρακάτω κελί και κάτω από τον υπάρχοντα κώδικα:\n",
        "φτιάξτε μια for loop που θα τρέχει 22 φορές και\n",
        "θα φτιάχνει μια μεταβλητή με όνομα c και τιμή το άθροισμα των a και b\n",
        "θα τυπώνει την τιμή του c\n",
        "θα αλλάζει την τιμή του a σε b και\n",
        "θα αλλάζει την τιμή του b σε c\n",
        "τρέξτε τον κώδικα"
      ],
      "metadata": {
        "id": "VWcMYrzuQSlp"
      }
    },
    {
      "cell_type": "code",
      "source": [
        "for i in range (0,22):\n",
        "  a = 0\n",
        "  b = 1\n",
        "  c = a+b\n",
        "  print (c)\n",
        "  a = b\n",
        "  b = c"
      ],
      "metadata": {
        "colab": {
          "base_uri": "https://localhost:8080/"
        },
        "id": "5zKtpKILT8qv",
        "outputId": "2114946f-d659-473e-94f2-749fbe63bc7c"
      },
      "execution_count": null,
      "outputs": [
        {
          "output_type": "stream",
          "name": "stdout",
          "text": [
            "1\n",
            "1\n",
            "1\n",
            "1\n",
            "1\n",
            "1\n",
            "1\n",
            "1\n",
            "1\n",
            "1\n",
            "1\n",
            "1\n",
            "1\n",
            "1\n",
            "1\n",
            "1\n",
            "1\n",
            "1\n",
            "1\n",
            "1\n",
            "1\n",
            "1\n"
          ]
        }
      ]
    },
    {
      "cell_type": "markdown",
      "source": [
        "Άσκηση 3\n",
        "\n",
        "Try yourself: Συμπληρώστε το παρακάτω code cell, ακολουθώντας τα σχόλια που περιέχει, έτσι ώστε ο κώδικας:\n",
        "να φτιάχνει ένα λεξικό με κλειδιά τις πόλεις: Αθήνα, θεσσαλονίκη, Πάτρα και τιμές σε όλα το 0\n",
        "να φτιάχνει μια λίστα με τιμές αριθμούς που δηλώνουν τις θερμοκρασίες της ημέρας σε κάθε πόλη: 21, 17, 23\n",
        "να περιέχει μια λούπα που θα τρέχει αριθμούς στο εύρος των τιμών που μπορεί να πάρει το index των αντικειμένων της λίστας και\n",
        "θα εκχωρεί το εκάστοτε όνομα του key του λεξικού σε μια μεταβλητή\n",
        "θα θέτει σαν τιμή του εκάστοτε κλειδιού την αντίστοιχη τιμή από τη λίστα των θερμοκρασιών\n",
        "Tips:\n",
        "θα χρησιμοποιηθεί η συνάρτηση list για να μετατραπεί το tuple των keys() σε λίστα\n",
        "θα χρησιμοποιηθεί ο αριθμός index για να επιλέγονται τα keys του λεξικού και τα αντικείμενα της λίστας"
      ],
      "metadata": {
        "id": "Q3MRejJnQceU"
      }
    },
    {
      "cell_type": "code",
      "source": [
        "# φτιάξε ένα λεξικό με κλειδιά τις πόλεις: Αθήνα, θεσσαλονίκη, Πάτρα και τιμές σε όλα το 0\n",
        "cities_temps = {\n",
        "                \"Athens\" : 0,\n",
        "                \"Thessaloniki\" : 0,\n",
        "                \"Patra\" : 0,\n",
        "}\n",
        "\n",
        "# φτιάξτε μια λίστα με τιμές αριθμούς που δηλώνουν τις θερμοκρασίες της ημέρας σε κάθε πόλη: 21, 17, 23\n",
        "temps = [21, 17, 23]\n",
        "\n",
        "# φτιάξτε μια for λούπα που θα τρέχει αριθμούς στο εύρος των τιμών που μπορεί να πάρει το index των αντικειμένων της λίστας\n",
        "for i in range(0, len(temps)):\n",
        "  # δώσε στη μεταβλητή key την τιμή του κλειδιού του λεξικού που αντιστοιχεί στον τρέχοντα αριθμό index\n",
        "  key =  list(cities_temps.keys())[i] \n",
        "  # δώσε στο τρέχον key του λεξικού την τιμή από τη λίστα των θερμοκρασιών που αντιστοιχεί στον τρέχοντα αριθμό index\n",
        "  cities_temps[key] = temps[i]\n",
        "# (εκτός της for λούπας) τύπωσε το λεξικό\n",
        "print (cities_temps)"
      ],
      "metadata": {
        "colab": {
          "base_uri": "https://localhost:8080/"
        },
        "id": "k750-uHOVqL_",
        "outputId": "aa763cbf-42b2-410a-f59c-33f8c22c9151"
      },
      "execution_count": null,
      "outputs": [
        {
          "output_type": "stream",
          "name": "stdout",
          "text": [
            "{'Athens': 21, 'Thessaloniki': 17, 'Patra': 23}\n"
          ]
        }
      ]
    },
    {
      "cell_type": "markdown",
      "source": [
        "Ασκηση 4\n",
        "\n",
        "Try yourself:\n",
        "Φτιάξτε ένα νέο κελί κώδικα (Code cell) ακριβώς κάτω από αυτό και:\n",
        "δημιουργήστε μια μεταβλητή με τιμή το όνομά σας και τρέξτε το κελί\n",
        "Φτιάξτε ένα νέο κελί από κάτω και:\n",
        "γράψτε ένα κομμάτι κώδικα το οποίο:\n",
        "θα ελέγχει αν η τιμή της μεταβλητής του ονόματος είναι \"Terry\"\n",
        "αν είναι, θα τυπώνει στην οθόνη \"Γειά σου Terry!\"\n",
        "αν δεν είναι:\n",
        "θα τυπώνει \"Wrong user\" και\n",
        "θα θέτει στη μεταβλητή του ονόματός σας την τιμή \"Terry\"\n",
        "πριν τρέξετε το κελί, μαντέψτε τι θα τυπωθεί στην οθόνη\n",
        "τρέξτε το κελί και συγκρίνετε το αποτέλεσμα με τη μαντεψιά σας\n",
        "τι θα τυπωθεί αν ξανατρέξετε το κελί;"
      ],
      "metadata": {
        "id": "XlsFCZdBQkgO"
      }
    },
    {
      "cell_type": "code",
      "source": [
        "name = \"Theodora\""
      ],
      "metadata": {
        "id": "QIyZN2zapeWT"
      },
      "execution_count": null,
      "outputs": []
    },
    {
      "cell_type": "code",
      "source": [
        "if name == \"Terry\":\n",
        " print (\"Hello Terry!\")\n",
        "else:\n",
        "  print (\"Wrong user!\")\n",
        "  name = \"Terry\""
      ],
      "metadata": {
        "colab": {
          "base_uri": "https://localhost:8080/"
        },
        "id": "uJFvbZW8pkku",
        "outputId": "a2e57401-1d3e-440d-aaf2-1643a51b778d"
      },
      "execution_count": null,
      "outputs": [
        {
          "output_type": "stream",
          "name": "stdout",
          "text": [
            "Hello Terry!\n"
          ]
        }
      ]
    },
    {
      "cell_type": "markdown",
      "source": [
        "Άσκηση 5\n",
        "\n",
        "Έστω ότι έχουμε μια λίστα με ονόματα φοιτητών\n",
        "[ ]\n",
        "studentsL = [\"Γιάννης\", \"Άννα\", \"Πέτρος\", \"Βάσω\", \"Ελίνα\"]\n",
        "\n",
        "Γράψτε έναν κώδικα που θα λουπάρει σε όλα τα ονόματα της λίστας και θα τυπώνει το μήνυμα: Γειά σου <όνομα>\n",
        "Προσθέστε στον κώδικα της λούπας στο παρακάτω κελί, μια εντολή if, η οποία θα ελέγχει αν το τελευταίο γράμμα του εκάστοτε ονόματος είναι \"ς\". Αν είναι, τότε θα το αφαιρεί όταν τυπώνει το όνομα. Αλλιώς, θα το τυπώνει όπως είναι."
      ],
      "metadata": {
        "id": "Ac4tViCIQv5j"
      }
    },
    {
      "cell_type": "code",
      "source": [
        "studentsL = [\"Γιάννης\", \"Άννα\", \"Πέτρος\", \"Βάσω\", \"Ελίνα\"]\n",
        "for i in range(len(studentsL)):\n",
        "  if studentsL[i].endswith(\"ς\"):\n",
        "    print (\"Hello\", studentsL[i][:-1] )\n",
        "  else:\n",
        "    print(\"Hello\", studentsL[i])\n",
        "\n"
      ],
      "metadata": {
        "colab": {
          "base_uri": "https://localhost:8080/"
        },
        "id": "SDSoAWMJrGAf",
        "outputId": "ab2be76a-e170-4616-b8e7-6286bf40d175"
      },
      "execution_count": null,
      "outputs": [
        {
          "output_type": "stream",
          "name": "stdout",
          "text": [
            "Hello Γιάννη\n",
            "Hello Άννα\n",
            "Hello Πέτρο\n",
            "Hello Βάσω\n",
            "Hello Ελίνα\n"
          ]
        }
      ]
    }
  ]
}